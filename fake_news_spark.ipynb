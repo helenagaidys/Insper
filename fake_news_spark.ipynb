{
 "cells": [
  {
   "cell_type": "markdown",
   "metadata": {},
   "source": [
    "Autora: Helena Boin Gaidys\n",
    "\n"
   ]
  },
  {
   "cell_type": "markdown",
   "metadata": {},
   "source": [
    "# Exercício 02: Análise de Fake News (0,5 pontos na média)\n",
    "Pergunta de negócio:\n",
    "* Existem padrões notícias brasileiras que nos permitem suspeitar de fake news?\n",
    "\n",
    "Na base de dados __FakeBR Corpus__, disponível em `data/fakenews/full_texts`, extraída de  https://sites.google.com/icmc.usp.br/opinando/, existem duas pastas que separam conjuntos distintos de notícias:\n",
    "* `fake`: com notícias sabidamente falsas;\n",
    "* `true`: com notícias sabidamente verdadeiras.\n",
    "\n",
    "Utilizando o spark:\n",
    "* Conte frequência de cada palavra em relação ao total de palavras da base;\n",
    "* Separe as 100 palavras com maior frequência de cada base.\n",
    "\n",
    "Na sequencia:\n",
    "* Calcule a diferença entre as frequências relativas das 100 palavras mais frequentes entre base `fake` e `true`;\n",
    "* Faça um gráfico desta diferença e analise.\n",
    "\n",
    "Responda:\n",
    "* Você consegue tirar alguma conclusão esta análise? Qual?\n"
   ]
  },
  {
   "cell_type": "code",
   "execution_count": 1,
   "metadata": {
    "ExecuteTime": {
     "end_time": "2020-06-05T18:11:47.669525Z",
     "start_time": "2020-06-05T18:11:47.562856Z"
    }
   },
   "outputs": [],
   "source": [
    "# importa a biblioteca do spark\n",
    "from pyspark.sql import SparkSession"
   ]
  },
  {
   "cell_type": "code",
   "execution_count": 2,
   "metadata": {
    "ExecuteTime": {
     "end_time": "2020-06-05T18:11:50.699600Z",
     "start_time": "2020-06-05T18:11:47.671005Z"
    }
   },
   "outputs": [],
   "source": [
    "# cria a sessão do spark\n",
    "spark = SparkSession.builder \\\n",
    "    .master('local[8]') \\\n",
    "    .appName('Exercício_Fake_News')\\\n",
    "    .getOrCreate()  "
   ]
  },
  {
   "cell_type": "code",
   "execution_count": 3,
   "metadata": {
    "ExecuteTime": {
     "end_time": "2020-06-05T18:11:50.716870Z",
     "start_time": "2020-06-05T18:11:50.702129Z"
    }
   },
   "outputs": [
    {
     "data": {
      "text/html": [
       "\n",
       "            <div>\n",
       "                <p><b>SparkSession - in-memory</b></p>\n",
       "                \n",
       "        <div>\n",
       "            <p><b>SparkContext</b></p>\n",
       "\n",
       "            <p><a href=\"http://ip-172-31-16-131.ec2.internal:4043\">Spark UI</a></p>\n",
       "\n",
       "            <dl>\n",
       "              <dt>Version</dt>\n",
       "                <dd><code>v2.4.5</code></dd>\n",
       "              <dt>Master</dt>\n",
       "                <dd><code>local[8]</code></dd>\n",
       "              <dt>AppName</dt>\n",
       "                <dd><code>Exercício_Fake_News</code></dd>\n",
       "            </dl>\n",
       "        </div>\n",
       "        \n",
       "            </div>\n",
       "        "
      ],
      "text/plain": [
       "<pyspark.sql.session.SparkSession at 0x7f1ef43c6510>"
      ]
     },
     "execution_count": 3,
     "metadata": {},
     "output_type": "execute_result"
    }
   ],
   "source": [
    "spark"
   ]
  },
  {
   "cell_type": "code",
   "execution_count": 4,
   "metadata": {
    "ExecuteTime": {
     "end_time": "2020-06-05T18:11:50.720963Z",
     "start_time": "2020-06-05T18:11:50.718597Z"
    }
   },
   "outputs": [],
   "source": [
    "# acessa o contexto do spark, no qual as funções de RDDs estão disponíveis\n",
    "sc = spark.sparkContext"
   ]
  },
  {
   "cell_type": "code",
   "execution_count": 5,
   "metadata": {
    "ExecuteTime": {
     "end_time": "2020-06-05T18:11:51.216194Z",
     "start_time": "2020-06-05T18:11:50.722501Z"
    }
   },
   "outputs": [],
   "source": [
    "rdd = sc.wholeTextFiles('../data/fakenews/full_texts/fake/*.txt')"
   ]
  },
  {
   "cell_type": "code",
   "execution_count": 6,
   "metadata": {
    "ExecuteTime": {
     "end_time": "2020-06-05T18:11:52.817082Z",
     "start_time": "2020-06-05T18:11:51.217756Z"
    }
   },
   "outputs": [
    {
     "data": {
      "text/plain": [
       "[('file:/data/jupyter/alunos/data/fakenews/full_texts/fake/c_0.txt',\n",
       "  'Kátia Abreu diz que vai colocar sua expulsão em uma moldura, mas não para de reclamar.\\t\\r\\n\\r\\nA senadora Kátia Abreu (sem partido-TO) disse que sua expulsão do PMDB foi resultado de uma ação da cúpula atual da legenda que, segundo ela, é oportunista.\\r\\n\\r\\n“Amanhã eu vou botar numa moldura dourada a minha expulsão, porque das mãos de onde veio, é um atestado de boa conduta para o meu currículo. Essas pessoas que me expulsaram não servem ao país. Eles se servem do país em seus benefícios próprios”, disse Kátia Abreu.\\r\\n\\r\\nUé, mas se a expulsão é algo tão bom para seu currículo, por que tanta choradeira, Kátia?\\r\\n\\r\\nSabemos o motivo. Provavelmente Kátia não tem valor para o PT, partido que já deveria tê-la absorvido. Ao que parece o PT gostava de Kátia somente se ela ficasse entrincheirada dentro do PMDB.\\r\\n\\r\\nOu seja, isso é se rebaixar demais. Resta a Kátia ficar chorando as pitangas por todos os cantos.\\r\\n\\r\\nEm tempo: até o momento o PT não cadastrou Kátia Abreu em suas fileiras. Que situação patética para a ex-ministra da Agricultura de Dilma.'),\n",
       " ('file:/data/jupyter/alunos/data/fakenews/full_texts/fake/c_1.txt',\n",
       "  'Dr. Ray peita Bolsonaro, chama-o de \\x93conservador fake\\x94 em entrevista a Danilo Gentili e divide a direita.\\r\\n\\r\\nEste site vem avisando Jair Bolsonaro que ele deveria abandonar a pauta estatista de vez e fazer um discurso mais convincente para aquela boa parte dos liberais e conservadores do Brasil que querem se ver livres das amarras estatais.\\r\\n\\r\\nTudo bem que as pesquisas ainda dizem que a maior parte do povo é contra as privatizações, mas o índice (pouco mais de 50% do povo) é fácil de ser revertido. Ademais, Bolsonaro deveria falar para direitistas em vez de focar tanto em petistas arrependidos.\\r\\n\\r\\nRecentemente ele disse que \\x93pensaria 200 vezes antes de privatizar a Petrobrás para que ela não caia nas mãos de chineses\\x94 (ou algo do tipo). Deveria ter dito: \\x93Eu garanto a privatização da Petrobrás, e também garanto que chineses não irão comprá-la\\x94. Isso não deixaria brechas. Do jeito que ele falou, parece que o suposto \\x93medo de venda aos chineses\\x94 é pretexto para evitar a privatização.\\r\\n\\r\\nSeja lá como for, a direita vai ter que adotar alternativas que foquem em um estado reduzido, diminuição de impostos e venda de estatais. Além de João Amoedo, Dr. Rey está fazendo vicejar este tipo de discurso e \\x96 ainda que sua candidatura esteja em fase inicial \\x96 é complicado para Bolsonaro que apareçam pessoas de direita propondo uma visão economicamente direitista para a economia.\\r\\n\\r\\nEnfim, veja aos 32:40 Dr. Rey espinafrando Bolsonaro: Quem dá brechas não pode reclamar que os outros aproveitem, não é mesmo?\\r\\n')]"
      ]
     },
     "execution_count": 6,
     "metadata": {},
     "output_type": "execute_result"
    }
   ],
   "source": [
    "rdd.take(2)"
   ]
  },
  {
   "cell_type": "code",
   "execution_count": 7,
   "metadata": {
    "ExecuteTime": {
     "end_time": "2020-06-05T18:11:52.849995Z",
     "start_time": "2020-06-05T18:11:52.818535Z"
    }
   },
   "outputs": [],
   "source": [
    "rdd1 = sc.wholeTextFiles('../data/fakenews/full_texts/true/*.txt')"
   ]
  },
  {
   "cell_type": "code",
   "execution_count": 8,
   "metadata": {
    "ExecuteTime": {
     "end_time": "2020-06-05T18:11:52.855037Z",
     "start_time": "2020-06-05T18:11:52.852213Z"
    }
   },
   "outputs": [],
   "source": [
    "rdd_fake = rdd.map(lambda x: (x[1]))"
   ]
  },
  {
   "cell_type": "code",
   "execution_count": 9,
   "metadata": {
    "ExecuteTime": {
     "end_time": "2020-06-05T18:11:53.498891Z",
     "start_time": "2020-06-05T18:11:52.856757Z"
    }
   },
   "outputs": [
    {
     "data": {
      "text/plain": [
       "['Kátia Abreu diz que vai colocar sua expulsão em uma moldura, mas não para de reclamar.\\t\\r\\n\\r\\nA senadora Kátia Abreu (sem partido-TO) disse que sua expulsão do PMDB foi resultado de uma ação da cúpula atual da legenda que, segundo ela, é oportunista.\\r\\n\\r\\n“Amanhã eu vou botar numa moldura dourada a minha expulsão, porque das mãos de onde veio, é um atestado de boa conduta para o meu currículo. Essas pessoas que me expulsaram não servem ao país. Eles se servem do país em seus benefícios próprios”, disse Kátia Abreu.\\r\\n\\r\\nUé, mas se a expulsão é algo tão bom para seu currículo, por que tanta choradeira, Kátia?\\r\\n\\r\\nSabemos o motivo. Provavelmente Kátia não tem valor para o PT, partido que já deveria tê-la absorvido. Ao que parece o PT gostava de Kátia somente se ela ficasse entrincheirada dentro do PMDB.\\r\\n\\r\\nOu seja, isso é se rebaixar demais. Resta a Kátia ficar chorando as pitangas por todos os cantos.\\r\\n\\r\\nEm tempo: até o momento o PT não cadastrou Kátia Abreu em suas fileiras. Que situação patética para a ex-ministra da Agricultura de Dilma.',\n",
       " 'Dr. Ray peita Bolsonaro, chama-o de \\x93conservador fake\\x94 em entrevista a Danilo Gentili e divide a direita.\\r\\n\\r\\nEste site vem avisando Jair Bolsonaro que ele deveria abandonar a pauta estatista de vez e fazer um discurso mais convincente para aquela boa parte dos liberais e conservadores do Brasil que querem se ver livres das amarras estatais.\\r\\n\\r\\nTudo bem que as pesquisas ainda dizem que a maior parte do povo é contra as privatizações, mas o índice (pouco mais de 50% do povo) é fácil de ser revertido. Ademais, Bolsonaro deveria falar para direitistas em vez de focar tanto em petistas arrependidos.\\r\\n\\r\\nRecentemente ele disse que \\x93pensaria 200 vezes antes de privatizar a Petrobrás para que ela não caia nas mãos de chineses\\x94 (ou algo do tipo). Deveria ter dito: \\x93Eu garanto a privatização da Petrobrás, e também garanto que chineses não irão comprá-la\\x94. Isso não deixaria brechas. Do jeito que ele falou, parece que o suposto \\x93medo de venda aos chineses\\x94 é pretexto para evitar a privatização.\\r\\n\\r\\nSeja lá como for, a direita vai ter que adotar alternativas que foquem em um estado reduzido, diminuição de impostos e venda de estatais. Além de João Amoedo, Dr. Rey está fazendo vicejar este tipo de discurso e \\x96 ainda que sua candidatura esteja em fase inicial \\x96 é complicado para Bolsonaro que apareçam pessoas de direita propondo uma visão economicamente direitista para a economia.\\r\\n\\r\\nEnfim, veja aos 32:40 Dr. Rey espinafrando Bolsonaro: Quem dá brechas não pode reclamar que os outros aproveitem, não é mesmo?\\r\\n']"
      ]
     },
     "execution_count": 9,
     "metadata": {},
     "output_type": "execute_result"
    }
   ],
   "source": [
    "rdd_fake.take(2)"
   ]
  },
  {
   "cell_type": "code",
   "execution_count": 10,
   "metadata": {
    "ExecuteTime": {
     "end_time": "2020-06-05T18:11:53.503604Z",
     "start_time": "2020-06-05T18:11:53.500578Z"
    }
   },
   "outputs": [],
   "source": [
    "rdd_true = rdd1.map(lambda x: (x[1]))"
   ]
  },
  {
   "cell_type": "code",
   "execution_count": 11,
   "metadata": {
    "ExecuteTime": {
     "end_time": "2020-06-05T18:11:53.507595Z",
     "start_time": "2020-06-05T18:11:53.505194Z"
    }
   },
   "outputs": [],
   "source": [
    "import re"
   ]
  },
  {
   "cell_type": "markdown",
   "metadata": {},
   "source": [
    "# Fake News"
   ]
  },
  {
   "cell_type": "markdown",
   "metadata": {},
   "source": [
    "## Ajustando fake news"
   ]
  },
  {
   "cell_type": "code",
   "execution_count": 12,
   "metadata": {
    "ExecuteTime": {
     "end_time": "2020-06-05T18:12:12.488157Z",
     "start_time": "2020-06-05T18:11:53.509166Z"
    }
   },
   "outputs": [],
   "source": [
    "rdd_fake_splitted = [re.findall(r'\\w+', line) for line in rdd_fake.collect()]"
   ]
  },
  {
   "cell_type": "code",
   "execution_count": 13,
   "metadata": {
    "ExecuteTime": {
     "end_time": "2020-06-05T18:12:12.495614Z",
     "start_time": "2020-06-05T18:12:12.489658Z"
    }
   },
   "outputs": [
    {
     "data": {
      "text/plain": [
       "['Kátia',\n",
       " 'Abreu',\n",
       " 'diz',\n",
       " 'que',\n",
       " 'vai',\n",
       " 'colocar',\n",
       " 'sua',\n",
       " 'expulsão',\n",
       " 'em',\n",
       " 'uma',\n",
       " 'moldura',\n",
       " 'mas',\n",
       " 'não',\n",
       " 'para',\n",
       " 'de',\n",
       " 'reclamar',\n",
       " 'A',\n",
       " 'senadora',\n",
       " 'Kátia',\n",
       " 'Abreu',\n",
       " 'sem',\n",
       " 'partido',\n",
       " 'TO',\n",
       " 'disse',\n",
       " 'que',\n",
       " 'sua',\n",
       " 'expulsão',\n",
       " 'do',\n",
       " 'PMDB',\n",
       " 'foi',\n",
       " 'resultado',\n",
       " 'de',\n",
       " 'uma',\n",
       " 'ação',\n",
       " 'da',\n",
       " 'cúpula',\n",
       " 'atual',\n",
       " 'da',\n",
       " 'legenda',\n",
       " 'que',\n",
       " 'segundo',\n",
       " 'ela',\n",
       " 'é',\n",
       " 'oportunista',\n",
       " 'Amanhã',\n",
       " 'eu',\n",
       " 'vou',\n",
       " 'botar',\n",
       " 'numa',\n",
       " 'moldura',\n",
       " 'dourada',\n",
       " 'a',\n",
       " 'minha',\n",
       " 'expulsão',\n",
       " 'porque',\n",
       " 'das',\n",
       " 'mãos',\n",
       " 'de',\n",
       " 'onde',\n",
       " 'veio',\n",
       " 'é',\n",
       " 'um',\n",
       " 'atestado',\n",
       " 'de',\n",
       " 'boa',\n",
       " 'conduta',\n",
       " 'para',\n",
       " 'o',\n",
       " 'meu',\n",
       " 'currículo',\n",
       " 'Essas',\n",
       " 'pessoas',\n",
       " 'que',\n",
       " 'me',\n",
       " 'expulsaram',\n",
       " 'não',\n",
       " 'servem',\n",
       " 'ao',\n",
       " 'país',\n",
       " 'Eles',\n",
       " 'se',\n",
       " 'servem',\n",
       " 'do',\n",
       " 'país',\n",
       " 'em',\n",
       " 'seus',\n",
       " 'benefícios',\n",
       " 'próprios',\n",
       " 'disse',\n",
       " 'Kátia',\n",
       " 'Abreu',\n",
       " 'Ué',\n",
       " 'mas',\n",
       " 'se',\n",
       " 'a',\n",
       " 'expulsão',\n",
       " 'é',\n",
       " 'algo',\n",
       " 'tão',\n",
       " 'bom',\n",
       " 'para',\n",
       " 'seu',\n",
       " 'currículo',\n",
       " 'por',\n",
       " 'que',\n",
       " 'tanta',\n",
       " 'choradeira',\n",
       " 'Kátia',\n",
       " 'Sabemos',\n",
       " 'o',\n",
       " 'motivo',\n",
       " 'Provavelmente',\n",
       " 'Kátia',\n",
       " 'não',\n",
       " 'tem',\n",
       " 'valor',\n",
       " 'para',\n",
       " 'o',\n",
       " 'PT',\n",
       " 'partido',\n",
       " 'que',\n",
       " 'já',\n",
       " 'deveria',\n",
       " 'tê',\n",
       " 'la',\n",
       " 'absorvido',\n",
       " 'Ao',\n",
       " 'que',\n",
       " 'parece',\n",
       " 'o',\n",
       " 'PT',\n",
       " 'gostava',\n",
       " 'de',\n",
       " 'Kátia',\n",
       " 'somente',\n",
       " 'se',\n",
       " 'ela',\n",
       " 'ficasse',\n",
       " 'entrincheirada',\n",
       " 'dentro',\n",
       " 'do',\n",
       " 'PMDB',\n",
       " 'Ou',\n",
       " 'seja',\n",
       " 'isso',\n",
       " 'é',\n",
       " 'se',\n",
       " 'rebaixar',\n",
       " 'demais',\n",
       " 'Resta',\n",
       " 'a',\n",
       " 'Kátia',\n",
       " 'ficar',\n",
       " 'chorando',\n",
       " 'as',\n",
       " 'pitangas',\n",
       " 'por',\n",
       " 'todos',\n",
       " 'os',\n",
       " 'cantos',\n",
       " 'Em',\n",
       " 'tempo',\n",
       " 'até',\n",
       " 'o',\n",
       " 'momento',\n",
       " 'o',\n",
       " 'PT',\n",
       " 'não',\n",
       " 'cadastrou',\n",
       " 'Kátia',\n",
       " 'Abreu',\n",
       " 'em',\n",
       " 'suas',\n",
       " 'fileiras',\n",
       " 'Que',\n",
       " 'situação',\n",
       " 'patética',\n",
       " 'para',\n",
       " 'a',\n",
       " 'ex',\n",
       " 'ministra',\n",
       " 'da',\n",
       " 'Agricultura',\n",
       " 'de',\n",
       " 'Dilma']"
      ]
     },
     "execution_count": 13,
     "metadata": {},
     "output_type": "execute_result"
    }
   ],
   "source": [
    "rdd_fake_splitted[0]"
   ]
  },
  {
   "cell_type": "code",
   "execution_count": 14,
   "metadata": {
    "ExecuteTime": {
     "end_time": "2020-06-05T18:12:12.516328Z",
     "start_time": "2020-06-05T18:12:12.496952Z"
    }
   },
   "outputs": [],
   "source": [
    "fake_splitted_flatten = [val for sublist in rdd_fake_splitted for val in sublist]"
   ]
  },
  {
   "cell_type": "code",
   "execution_count": 15,
   "metadata": {
    "ExecuteTime": {
     "end_time": "2020-06-05T18:12:12.521379Z",
     "start_time": "2020-06-05T18:12:12.517786Z"
    }
   },
   "outputs": [
    {
     "data": {
      "text/plain": [
       "'Kátia'"
      ]
     },
     "execution_count": 15,
     "metadata": {},
     "output_type": "execute_result"
    }
   ],
   "source": [
    "fake_splitted_flatten[0]"
   ]
  },
  {
   "cell_type": "code",
   "execution_count": 16,
   "metadata": {
    "ExecuteTime": {
     "end_time": "2020-06-05T18:12:12.642867Z",
     "start_time": "2020-06-05T18:12:12.522769Z"
    }
   },
   "outputs": [],
   "source": [
    "fake_splitted_flatten_lower = list(map(lambda word: word.lower(), fake_splitted_flatten))"
   ]
  },
  {
   "cell_type": "code",
   "execution_count": 17,
   "metadata": {
    "ExecuteTime": {
     "end_time": "2020-06-05T18:12:12.647971Z",
     "start_time": "2020-06-05T18:12:12.644376Z"
    }
   },
   "outputs": [
    {
     "data": {
      "text/plain": [
       "['kátia',\n",
       " 'abreu',\n",
       " 'diz',\n",
       " 'que',\n",
       " 'vai',\n",
       " 'colocar',\n",
       " 'sua',\n",
       " 'expulsão',\n",
       " 'em',\n",
       " 'uma']"
      ]
     },
     "execution_count": 17,
     "metadata": {},
     "output_type": "execute_result"
    }
   ],
   "source": [
    "fake_splitted_flatten_lower[0:10]"
   ]
  },
  {
   "cell_type": "markdown",
   "metadata": {},
   "source": [
    "## Contando frequência de palavras em fake news com stopwords"
   ]
  },
  {
   "cell_type": "code",
   "execution_count": 18,
   "metadata": {
    "ExecuteTime": {
     "end_time": "2020-06-05T18:12:12.853065Z",
     "start_time": "2020-06-05T18:12:12.649273Z"
    }
   },
   "outputs": [],
   "source": [
    "rdd_fake_splitted = sc.parallelize(fake_splitted_flatten_lower)"
   ]
  },
  {
   "cell_type": "code",
   "execution_count": 19,
   "metadata": {
    "ExecuteTime": {
     "end_time": "2020-06-05T18:12:12.897381Z",
     "start_time": "2020-06-05T18:12:12.854628Z"
    }
   },
   "outputs": [
    {
     "data": {
      "text/plain": [
       "['kátia', 'abreu', 'diz', 'que', 'vai']"
      ]
     },
     "execution_count": 19,
     "metadata": {},
     "output_type": "execute_result"
    }
   ],
   "source": [
    "rdd_fake_splitted.take(5)"
   ]
  },
  {
   "cell_type": "code",
   "execution_count": 20,
   "metadata": {
    "ExecuteTime": {
     "end_time": "2020-06-05T18:12:12.901608Z",
     "start_time": "2020-06-05T18:12:12.898771Z"
    }
   },
   "outputs": [],
   "source": [
    "rdd_fake_count = rdd_fake_splitted.map(lambda x: (x,1))"
   ]
  },
  {
   "cell_type": "code",
   "execution_count": 21,
   "metadata": {
    "ExecuteTime": {
     "end_time": "2020-06-05T18:12:12.951703Z",
     "start_time": "2020-06-05T18:12:12.902861Z"
    }
   },
   "outputs": [],
   "source": [
    "rdd_fake_reduce = rdd_fake_count.reduceByKey(lambda x,y: x + y)"
   ]
  },
  {
   "cell_type": "code",
   "execution_count": 22,
   "metadata": {
    "ExecuteTime": {
     "end_time": "2020-06-05T18:12:13.478374Z",
     "start_time": "2020-06-05T18:12:12.953198Z"
    }
   },
   "outputs": [
    {
     "data": {
      "text/plain": [
       "[('diz', 771),\n",
       " ('colocar', 114),\n",
       " ('foi', 3576),\n",
       " ('segundo', 464),\n",
       " ('dourada', 2),\n",
       " ('atestado', 7),\n",
       " ('boa', 90),\n",
       " ('tem', 1554),\n",
       " ('ficasse', 4),\n",
       " ('resta', 24)]"
      ]
     },
     "execution_count": 22,
     "metadata": {},
     "output_type": "execute_result"
    }
   ],
   "source": [
    "rdd_fake_reduce.take(10)"
   ]
  },
  {
   "cell_type": "code",
   "execution_count": 23,
   "metadata": {
    "ExecuteTime": {
     "end_time": "2020-06-05T18:12:13.602144Z",
     "start_time": "2020-06-05T18:12:13.482197Z"
    }
   },
   "outputs": [],
   "source": [
    "rdd_fake_total = rdd_fake_count.count()"
   ]
  },
  {
   "cell_type": "code",
   "execution_count": 24,
   "metadata": {
    "ExecuteTime": {
     "end_time": "2020-06-05T18:12:13.607981Z",
     "start_time": "2020-06-05T18:12:13.604564Z"
    }
   },
   "outputs": [
    {
     "data": {
      "text/plain": [
       "668829"
      ]
     },
     "execution_count": 24,
     "metadata": {},
     "output_type": "execute_result"
    }
   ],
   "source": [
    "rdd_fake_total"
   ]
  },
  {
   "cell_type": "code",
   "execution_count": 25,
   "metadata": {
    "ExecuteTime": {
     "end_time": "2020-06-05T18:12:13.612259Z",
     "start_time": "2020-06-05T18:12:13.609340Z"
    }
   },
   "outputs": [],
   "source": [
    "rdd_fake_freq = rdd_fake_reduce.map(lambda x: (x[0], x[1] / rdd_fake_total))"
   ]
  },
  {
   "cell_type": "code",
   "execution_count": 26,
   "metadata": {
    "ExecuteTime": {
     "end_time": "2020-06-05T18:12:13.667959Z",
     "start_time": "2020-06-05T18:12:13.613556Z"
    }
   },
   "outputs": [
    {
     "data": {
      "text/plain": [
       "[('diz', 0.001152761019632821),\n",
       " ('colocar', 0.00017044715465388015),\n",
       " ('foi', 0.005346658114405925),\n",
       " ('segundo', 0.0006937498224508805),\n",
       " ('dourada', 2.9903009588400024e-06),\n",
       " ('atestado', 1.0466053355940008e-05),\n",
       " ('boa', 0.0001345635431478001),\n",
       " ('tem', 0.0023234638450186818),\n",
       " ('ficasse', 5.980601917680005e-06),\n",
       " ('resta', 3.588361150608003e-05)]"
      ]
     },
     "execution_count": 26,
     "metadata": {},
     "output_type": "execute_result"
    }
   ],
   "source": [
    "rdd_fake_freq.take(10)"
   ]
  },
  {
   "cell_type": "markdown",
   "metadata": {},
   "source": [
    "## Top 100 palavras em fake news com stopwords"
   ]
  },
  {
   "cell_type": "code",
   "execution_count": 27,
   "metadata": {
    "ExecuteTime": {
     "end_time": "2020-06-05T18:12:13.796573Z",
     "start_time": "2020-06-05T18:12:13.670068Z"
    }
   },
   "outputs": [],
   "source": [
    "rdd_fake_top100 = rdd_fake_freq.takeOrdered(100, lambda el: -el[1])"
   ]
  },
  {
   "cell_type": "code",
   "execution_count": 28,
   "metadata": {
    "ExecuteTime": {
     "end_time": "2020-06-05T18:12:13.805288Z",
     "start_time": "2020-06-05T18:12:13.798019Z"
    }
   },
   "outputs": [
    {
     "data": {
      "text/plain": [
       "[('de', 0.043468509888177694),\n",
       " ('o', 0.03560102806546965),\n",
       " ('a', 0.031897540327946304),\n",
       " ('que', 0.028192557439943543),\n",
       " ('e', 0.02316735667861292),\n",
       " ('do', 0.020087346691007715),\n",
       " ('da', 0.016401800759237414),\n",
       " ('em', 0.01249048710507469),\n",
       " ('para', 0.011325764881606509),\n",
       " ('um', 0.01109700685825525),\n",
       " ('não', 0.009337214743977907),\n",
       " ('com', 0.009284884477198208),\n",
       " ('uma', 0.008558241344200086),\n",
       " ('no', 0.008380318437149106),\n",
       " ('é', 0.008369852383793166),\n",
       " ('na', 0.007327732499637426),\n",
       " ('se', 0.007191673806010206),\n",
       " ('os', 0.006725186856431166),\n",
       " ('foi', 0.005346658114405925),\n",
       " ('por', 0.004922035378250644),\n",
       " ('lula', 0.004588616821339984),\n",
       " ('presidente', 0.004476480535383484),\n",
       " ('as', 0.004235761308196863),\n",
       " ('ao', 0.004210343750046724),\n",
       " ('mais', 0.0039546730180659035),\n",
       " ('dos', 0.003924770008477504),\n",
       " ('ele', 0.003559953291499023),\n",
       " ('disse', 0.0032908262052034226),\n",
       " ('como', 0.0032474668413002426),\n",
       " ('está', 0.0030994469438376626),\n",
       " ('ex', 0.0030516021284962224),\n",
       " ('dilma', 0.002827329556583222),\n",
       " ('pelo', 0.002480454645357782),\n",
       " ('ser', 0.002440085582413442),\n",
       " ('também', 0.002362337757483602),\n",
       " ('tem', 0.0023234638450186818),\n",
       " ('à', 0.002251696622006522),\n",
       " ('já', 0.0021918906028297216),\n",
       " ('brasil', 0.002127599132214662),\n",
       " ('sua', 0.002115637928379302),\n",
       " ('são', 0.0020827446178320616),\n",
       " ('pela', 0.002022938598655262),\n",
       " ('das', 0.0019900452881080216),\n",
       " ('seu', 0.0018988411088634017),\n",
       " ('país', 0.0018480059925631215),\n",
       " ('ou', 0.0018106272305776214),\n",
       " ('temer', 0.0017986660267422614),\n",
       " ('governo', 0.0017971708762628414),\n",
       " ('r', 0.0017792290705098016),\n",
       " ('federal', 0.0017597921142773415),\n",
       " ('eu', 0.0017523163618802413),\n",
       " ('sobre', 0.0016895200417446014),\n",
       " ('ministro', 0.0016685879350327214),\n",
       " ('anos', 0.0016371897749649013),\n",
       " ('mas', 0.0015743934548292614),\n",
       " ('ainda', 0.0014263735573666811),\n",
       " ('contra', 0.0014054414506548011),\n",
       " ('até', 0.001399460848737121),\n",
       " ('foram', 0.001380023892504661),\n",
       " ('pt', 0.001380023892504661),\n",
       " ('nas', 0.001354606334354521),\n",
       " ('jato', 0.001354606334354521),\n",
       " ('vai', 0.001341149980039741),\n",
       " ('lava', 0.001339654829560321),\n",
       " ('acordo', 0.001335169378122061),\n",
       " ('isso', 0.001288819713260041),\n",
       " ('durante', 0.001281343960862941),\n",
       " ('pode', 0.001278353659904101),\n",
       " ('moro', 0.0012693827570275811),\n",
       " ('milhões', 0.001240974897918601),\n",
       " ('hoje', 0.001234994296000921),\n",
       " ('norte', 0.001215557339768461),\n",
       " ('nos', 0.001215557339768461),\n",
       " ('ela', 0.001191634932097741),\n",
       " ('entre', 0.0011826640292212209),\n",
       " ('estão', 0.0011751882768241209),\n",
       " ('ter', 0.001170702825385861),\n",
       " ('quando', 0.001164722223468181),\n",
       " ('diz', 0.001152761019632821),\n",
       " ('será', 0.0011363143643592008),\n",
       " ('após', 0.001103421053811961),\n",
       " ('dia', 0.0011019259033325408),\n",
       " ('vídeo', 0.001098935602373701),\n",
       " ('há', 0.001092955000456021),\n",
       " ('dinheiro', 0.001083984097579501),\n",
       " ('deputado', 0.001070527743264721),\n",
       " ('pessoas', 0.001057071388949941),\n",
       " ('seus', 0.001057071388949941),\n",
       " ('era', 0.001052585937511681),\n",
       " ('você', 0.001037634432717481),\n",
       " ('eles', 0.0010301586803203807),\n",
       " ('mesmo', 0.0010226829279232808),\n",
       " ('eua', 0.0009808187144995208),\n",
       " ('petista', 0.0009598866077876408),\n",
       " ('muito', 0.0009479254039522808),\n",
       " ('juiz', 0.0009434399525140208),\n",
       " ('caso', 0.0009314787486786607),\n",
       " ('só', 0.0009299835981992408),\n",
       " ('esse', 0.0009225078458021407),\n",
       " ('polícia', 0.0009210126953227208)]"
      ]
     },
     "execution_count": 28,
     "metadata": {},
     "output_type": "execute_result"
    }
   ],
   "source": [
    "rdd_fake_top100"
   ]
  },
  {
   "cell_type": "markdown",
   "metadata": {},
   "source": [
    "## Stopwords"
   ]
  },
  {
   "cell_type": "markdown",
   "metadata": {},
   "source": [
    "https://virtuati.com.br/cliente/knowledgebase/25/Lista-de-StopWords.html"
   ]
  },
  {
   "cell_type": "code",
   "execution_count": 29,
   "metadata": {
    "ExecuteTime": {
     "end_time": "2020-06-05T18:12:13.809944Z",
     "start_time": "2020-06-05T18:12:13.806752Z"
    }
   },
   "outputs": [],
   "source": [
    "arquivo = open(\"stopwords.txt\",\"r\", encoding='utf-8') #abre arquivo em modo leitura, lazy function\n",
    "stopword = arquivo.read() #carrega os dados na variável (memória)\n",
    "arquivo.close() #fecha o arquivo"
   ]
  },
  {
   "cell_type": "code",
   "execution_count": 30,
   "metadata": {
    "ExecuteTime": {
     "end_time": "2020-06-05T18:12:13.814505Z",
     "start_time": "2020-06-05T18:12:13.811266Z"
    }
   },
   "outputs": [
    {
     "data": {
      "text/plain": [
       "'a, agora, ainda, alguém, algum, alguma, algumas, alguns, ampla, amplas, amplo, amplos, ante, antes, ao, aos, após, aquela, aquelas, aquele, aqueles, aquilo, as, até, através, cada, coisa, coisas, com, como, contra, contudo, da, daquele, daqueles, das, de, dela, delas, dele, deles, depois, dessa, dessas, desse, desses, desta, destas, deste, deste, destes, deve, devem, devendo, dever, deverá, deverão, deveria, deveriam, devia, deviam, disse, disso, disto, dito, diz, dizem, do, dos, e, é, ela, elas, ele, eles, em, enquanto, entre, era, essa, essas, esse, esses, esta, está, estamos, estão, estas, estava, estavam, estávamos, este, estes, estou, eu, fazendo, fazer, feita, feitas, feito, feitos, foi, for, foram, fosse, fossem, grande, grandes, há, isso, isto, já, la, lá, lhe, lhes, lo, mas, me, mesma, mesmas, mesmo, mesmos, meu, meus, minha, minhas, muita, muitas, muito, muitos, na, não, nas, nem, nenhum, nessa, nessas, nesta, nestas, ninguém, no, nos, nós, nossa, nossas, nosso, nossos, num, numa, nunca, o, os, ou, outra, outras, outro, outros, para, pela, pelas, pelo, pelos, pequena, pequenas, pequeno, pequenos, per, perante, pode, pude, podendo, poder, poderia, poderiam, podia, podiam, pois, por, porém, porque, posso, pouca, poucas, pouco, poucos, primeiro, primeiros, própria, próprias, próprio, próprios, quais, qual, quando, quanto, quantos, que, quem, são, se, seja, sejam, sem, sempre, sendo, será, serão, seu, seus, si, sido, só, sob, sobre, sua, suas, talvez, também, tampouco, te, tem, tendo, tenha, ter, teu, teus, ti, tido, tinha, tinham, toda, todas, todavia, todo, todos, tu, tua, tuas, tudo, última, últimas, último, últimos, um, uma, umas, uns, vendo, ver, vez, vindo, vir, vos, vós'"
      ]
     },
     "execution_count": 30,
     "metadata": {},
     "output_type": "execute_result"
    }
   ],
   "source": [
    "stopword"
   ]
  },
  {
   "cell_type": "code",
   "execution_count": 31,
   "metadata": {
    "ExecuteTime": {
     "end_time": "2020-06-05T18:12:13.818401Z",
     "start_time": "2020-06-05T18:12:13.815866Z"
    }
   },
   "outputs": [],
   "source": [
    "stopwords = stopword.split(\", \")"
   ]
  },
  {
   "cell_type": "code",
   "execution_count": 32,
   "metadata": {
    "ExecuteTime": {
     "end_time": "2020-06-05T18:12:13.826489Z",
     "start_time": "2020-06-05T18:12:13.819719Z"
    }
   },
   "outputs": [
    {
     "data": {
      "text/plain": [
       "['a',\n",
       " 'agora',\n",
       " 'ainda',\n",
       " 'alguém',\n",
       " 'algum',\n",
       " 'alguma',\n",
       " 'algumas',\n",
       " 'alguns',\n",
       " 'ampla',\n",
       " 'amplas',\n",
       " 'amplo',\n",
       " 'amplos',\n",
       " 'ante',\n",
       " 'antes',\n",
       " 'ao',\n",
       " 'aos',\n",
       " 'após',\n",
       " 'aquela',\n",
       " 'aquelas',\n",
       " 'aquele',\n",
       " 'aqueles',\n",
       " 'aquilo',\n",
       " 'as',\n",
       " 'até',\n",
       " 'através',\n",
       " 'cada',\n",
       " 'coisa',\n",
       " 'coisas',\n",
       " 'com',\n",
       " 'como',\n",
       " 'contra',\n",
       " 'contudo',\n",
       " 'da',\n",
       " 'daquele',\n",
       " 'daqueles',\n",
       " 'das',\n",
       " 'de',\n",
       " 'dela',\n",
       " 'delas',\n",
       " 'dele',\n",
       " 'deles',\n",
       " 'depois',\n",
       " 'dessa',\n",
       " 'dessas',\n",
       " 'desse',\n",
       " 'desses',\n",
       " 'desta',\n",
       " 'destas',\n",
       " 'deste',\n",
       " 'deste',\n",
       " 'destes',\n",
       " 'deve',\n",
       " 'devem',\n",
       " 'devendo',\n",
       " 'dever',\n",
       " 'deverá',\n",
       " 'deverão',\n",
       " 'deveria',\n",
       " 'deveriam',\n",
       " 'devia',\n",
       " 'deviam',\n",
       " 'disse',\n",
       " 'disso',\n",
       " 'disto',\n",
       " 'dito',\n",
       " 'diz',\n",
       " 'dizem',\n",
       " 'do',\n",
       " 'dos',\n",
       " 'e',\n",
       " 'é',\n",
       " 'ela',\n",
       " 'elas',\n",
       " 'ele',\n",
       " 'eles',\n",
       " 'em',\n",
       " 'enquanto',\n",
       " 'entre',\n",
       " 'era',\n",
       " 'essa',\n",
       " 'essas',\n",
       " 'esse',\n",
       " 'esses',\n",
       " 'esta',\n",
       " 'está',\n",
       " 'estamos',\n",
       " 'estão',\n",
       " 'estas',\n",
       " 'estava',\n",
       " 'estavam',\n",
       " 'estávamos',\n",
       " 'este',\n",
       " 'estes',\n",
       " 'estou',\n",
       " 'eu',\n",
       " 'fazendo',\n",
       " 'fazer',\n",
       " 'feita',\n",
       " 'feitas',\n",
       " 'feito',\n",
       " 'feitos',\n",
       " 'foi',\n",
       " 'for',\n",
       " 'foram',\n",
       " 'fosse',\n",
       " 'fossem',\n",
       " 'grande',\n",
       " 'grandes',\n",
       " 'há',\n",
       " 'isso',\n",
       " 'isto',\n",
       " 'já',\n",
       " 'la',\n",
       " 'lá',\n",
       " 'lhe',\n",
       " 'lhes',\n",
       " 'lo',\n",
       " 'mas',\n",
       " 'me',\n",
       " 'mesma',\n",
       " 'mesmas',\n",
       " 'mesmo',\n",
       " 'mesmos',\n",
       " 'meu',\n",
       " 'meus',\n",
       " 'minha',\n",
       " 'minhas',\n",
       " 'muita',\n",
       " 'muitas',\n",
       " 'muito',\n",
       " 'muitos',\n",
       " 'na',\n",
       " 'não',\n",
       " 'nas',\n",
       " 'nem',\n",
       " 'nenhum',\n",
       " 'nessa',\n",
       " 'nessas',\n",
       " 'nesta',\n",
       " 'nestas',\n",
       " 'ninguém',\n",
       " 'no',\n",
       " 'nos',\n",
       " 'nós',\n",
       " 'nossa',\n",
       " 'nossas',\n",
       " 'nosso',\n",
       " 'nossos',\n",
       " 'num',\n",
       " 'numa',\n",
       " 'nunca',\n",
       " 'o',\n",
       " 'os',\n",
       " 'ou',\n",
       " 'outra',\n",
       " 'outras',\n",
       " 'outro',\n",
       " 'outros',\n",
       " 'para',\n",
       " 'pela',\n",
       " 'pelas',\n",
       " 'pelo',\n",
       " 'pelos',\n",
       " 'pequena',\n",
       " 'pequenas',\n",
       " 'pequeno',\n",
       " 'pequenos',\n",
       " 'per',\n",
       " 'perante',\n",
       " 'pode',\n",
       " 'pude',\n",
       " 'podendo',\n",
       " 'poder',\n",
       " 'poderia',\n",
       " 'poderiam',\n",
       " 'podia',\n",
       " 'podiam',\n",
       " 'pois',\n",
       " 'por',\n",
       " 'porém',\n",
       " 'porque',\n",
       " 'posso',\n",
       " 'pouca',\n",
       " 'poucas',\n",
       " 'pouco',\n",
       " 'poucos',\n",
       " 'primeiro',\n",
       " 'primeiros',\n",
       " 'própria',\n",
       " 'próprias',\n",
       " 'próprio',\n",
       " 'próprios',\n",
       " 'quais',\n",
       " 'qual',\n",
       " 'quando',\n",
       " 'quanto',\n",
       " 'quantos',\n",
       " 'que',\n",
       " 'quem',\n",
       " 'são',\n",
       " 'se',\n",
       " 'seja',\n",
       " 'sejam',\n",
       " 'sem',\n",
       " 'sempre',\n",
       " 'sendo',\n",
       " 'será',\n",
       " 'serão',\n",
       " 'seu',\n",
       " 'seus',\n",
       " 'si',\n",
       " 'sido',\n",
       " 'só',\n",
       " 'sob',\n",
       " 'sobre',\n",
       " 'sua',\n",
       " 'suas',\n",
       " 'talvez',\n",
       " 'também',\n",
       " 'tampouco',\n",
       " 'te',\n",
       " 'tem',\n",
       " 'tendo',\n",
       " 'tenha',\n",
       " 'ter',\n",
       " 'teu',\n",
       " 'teus',\n",
       " 'ti',\n",
       " 'tido',\n",
       " 'tinha',\n",
       " 'tinham',\n",
       " 'toda',\n",
       " 'todas',\n",
       " 'todavia',\n",
       " 'todo',\n",
       " 'todos',\n",
       " 'tu',\n",
       " 'tua',\n",
       " 'tuas',\n",
       " 'tudo',\n",
       " 'última',\n",
       " 'últimas',\n",
       " 'último',\n",
       " 'últimos',\n",
       " 'um',\n",
       " 'uma',\n",
       " 'umas',\n",
       " 'uns',\n",
       " 'vendo',\n",
       " 'ver',\n",
       " 'vez',\n",
       " 'vindo',\n",
       " 'vir',\n",
       " 'vos',\n",
       " 'vós']"
      ]
     },
     "execution_count": 32,
     "metadata": {},
     "output_type": "execute_result"
    }
   ],
   "source": [
    "stopwords"
   ]
  },
  {
   "cell_type": "code",
   "execution_count": 33,
   "metadata": {
    "ExecuteTime": {
     "end_time": "2020-06-05T18:12:13.832399Z",
     "start_time": "2020-06-05T18:12:13.827836Z"
    }
   },
   "outputs": [],
   "source": [
    "stopwords.append('seriam')\n",
    "stopwords.append('à')\n",
    "stopwords.append('teria')\n",
    "stopwords.append('fez')\n",
    "stopwords.append('às')\n",
    "stopwords.append('mais')\n",
    "stopwords.append('ser')\n",
    "stopwords.append('r')\n",
    "stopwords.append('então')\n",
    "stopwords.append('vai')\n",
    "stopwords.append('havia')\n",
    "stopwords.append('teve')\n",
    "stopwords.append('onde')"
   ]
  },
  {
   "cell_type": "code",
   "execution_count": 34,
   "metadata": {
    "ExecuteTime": {
     "end_time": "2020-06-05T18:12:15.837668Z",
     "start_time": "2020-06-05T18:12:13.833736Z"
    }
   },
   "outputs": [],
   "source": [
    "fake_sem_stopwords  = []\n",
    "\n",
    "for p in fake_splitted_flatten_lower:\n",
    "    if not p in stopwords:\n",
    "        fake_sem_stopwords.append(p)"
   ]
  },
  {
   "cell_type": "markdown",
   "metadata": {},
   "source": [
    "## Calculando frequência de palavras em fake news sem stopwords"
   ]
  },
  {
   "cell_type": "code",
   "execution_count": 35,
   "metadata": {
    "ExecuteTime": {
     "end_time": "2020-06-05T18:12:15.950371Z",
     "start_time": "2020-06-05T18:12:15.839249Z"
    }
   },
   "outputs": [],
   "source": [
    "rdd_fake_stopwords = sc.parallelize(fake_sem_stopwords)"
   ]
  },
  {
   "cell_type": "code",
   "execution_count": 36,
   "metadata": {
    "ExecuteTime": {
     "end_time": "2020-06-05T18:12:15.954967Z",
     "start_time": "2020-06-05T18:12:15.951870Z"
    }
   },
   "outputs": [],
   "source": [
    "rdd_fake_count_stopwords = rdd_fake_stopwords.map(lambda x: (x,1))"
   ]
  },
  {
   "cell_type": "code",
   "execution_count": 37,
   "metadata": {
    "ExecuteTime": {
     "end_time": "2020-06-05T18:12:15.980746Z",
     "start_time": "2020-06-05T18:12:15.956307Z"
    }
   },
   "outputs": [],
   "source": [
    "rdd_fake_reduce_stopwords = rdd_fake_count_stopwords.reduceByKey(lambda x,y: x + y)"
   ]
  },
  {
   "cell_type": "markdown",
   "metadata": {},
   "source": [
    "## Top 100 palavras em fake news sem stopwords"
   ]
  },
  {
   "cell_type": "code",
   "execution_count": 38,
   "metadata": {
    "ExecuteTime": {
     "end_time": "2020-06-05T18:12:16.057167Z",
     "start_time": "2020-06-05T18:12:15.982196Z"
    }
   },
   "outputs": [],
   "source": [
    "rdd_fake_total_stopwords = rdd_fake_count_stopwords.count()"
   ]
  },
  {
   "cell_type": "code",
   "execution_count": 39,
   "metadata": {
    "ExecuteTime": {
     "end_time": "2020-06-05T18:12:16.062567Z",
     "start_time": "2020-06-05T18:12:16.058637Z"
    }
   },
   "outputs": [
    {
     "data": {
      "text/plain": [
       "369589"
      ]
     },
     "execution_count": 39,
     "metadata": {},
     "output_type": "execute_result"
    }
   ],
   "source": [
    "rdd_fake_total_stopwords"
   ]
  },
  {
   "cell_type": "code",
   "execution_count": 40,
   "metadata": {
    "ExecuteTime": {
     "end_time": "2020-06-05T18:12:16.067191Z",
     "start_time": "2020-06-05T18:12:16.064274Z"
    }
   },
   "outputs": [],
   "source": [
    "rdd_fake_freq_stopwords = rdd_fake_reduce_stopwords.map(lambda x: (x[0], x[1] / rdd_fake_total_stopwords))"
   ]
  },
  {
   "cell_type": "code",
   "execution_count": 41,
   "metadata": {
    "ExecuteTime": {
     "end_time": "2020-06-05T18:12:16.297934Z",
     "start_time": "2020-06-05T18:12:16.068824Z"
    }
   },
   "outputs": [],
   "source": [
    "rdd_fake_top100_stopwords = rdd_fake_freq_stopwords.takeOrdered(100, lambda el: -el[1])"
   ]
  },
  {
   "cell_type": "code",
   "execution_count": 42,
   "metadata": {
    "ExecuteTime": {
     "end_time": "2020-06-05T18:12:16.306804Z",
     "start_time": "2020-06-05T18:12:16.299441Z"
    },
    "scrolled": true
   },
   "outputs": [
    {
     "data": {
      "text/plain": [
       "[('lula', 0.008303818566028751),\n",
       " ('presidente', 0.008100890448579368),\n",
       " ('ex', 0.005522350502855875),\n",
       " ('dilma', 0.005116494267957109),\n",
       " ('brasil', 0.0038502228150729596),\n",
       " ('país', 0.0033442553755658314),\n",
       " ('temer', 0.0032549670038881026),\n",
       " ('governo', 0.0032522612956554444),\n",
       " ('federal', 0.0031846185898389834),\n",
       " ('ministro', 0.0030195703876468184),\n",
       " ('anos', 0.0029627505147609913),\n",
       " ('pt', 0.0024973686987437398),\n",
       " ('jato', 0.002451371658788546),\n",
       " ('lava', 0.002424314576461962),\n",
       " ('acordo', 0.0024161974517639866),\n",
       " ('durante', 0.0023187919553882825),\n",
       " ('moro', 0.002297146289527015),\n",
       " ('milhões', 0.0022457378331065046),\n",
       " ('hoje', 0.002234915000175871),\n",
       " ('norte', 0.0021997407931513115),\n",
       " ('dia', 0.00199410696746927),\n",
       " ('vídeo', 0.001988695551003953),\n",
       " ('dinheiro', 0.0019616384686773685),\n",
       " ('deputado', 0.0019372870945834426),\n",
       " ('pessoas', 0.0019129357204895167),\n",
       " ('você', 0.0018777615134649571),\n",
       " ('eua', 0.0017749446006239363),\n",
       " ('petista', 0.0017370646853667182),\n",
       " ('juiz', 0.0017073018948074753),\n",
       " ('caso', 0.001685656228946208),\n",
       " ('polícia', 0.0016667162713175988),\n",
       " ('paulo', 0.0016531877301543066),\n",
       " ('mil', 0.0015963678572684793),\n",
       " ('senador', 0.0015909564408031623),\n",
       " ('sérgio', 0.0015747221914072119),\n",
       " ('justiça', 0.001544959400847969),\n",
       " ('estado', 0.001539547984382652),\n",
       " ('stf', 0.0015260194432193599),\n",
       " ('mundo', 0.0015097851938234092),\n",
       " ('michel', 0.0014881395279621418),\n",
       " ('operação', 0.0014583767374028989),\n",
       " ('público', 0.0013934397398190964),\n",
       " ('1', 0.0013799111986558042),\n",
       " ('parte', 0.0013799111986558042),\n",
       " ('cunha', 0.0013528541163292198),\n",
       " ('casa', 0.0013528541163292198),\n",
       " ('informou', 0.0013501484080965613),\n",
       " ('impeachment', 0.0013203856175373185),\n",
       " ('pf', 0.0013149742010720015),\n",
       " ('república', 0.0013014456599087093),\n",
       " ('globo', 0.0012879171187454171),\n",
       " ('afirmou', 0.0012635657446514912),\n",
       " ('políticos', 0.0012608600364188327),\n",
       " ('segundo', 0.001255448619953516),\n",
       " ('jornalista', 0.0012527429117208575),\n",
       " ('jornal', 0.0012148629964636394),\n",
       " ('prisão', 0.0012040401635330057),\n",
       " ('corrupção', 0.0011932173306023718),\n",
       " ('dois', 0.0011905116223697135),\n",
       " ('sociais', 0.001182394497671738),\n",
       " ('bem', 0.0011796887894390796),\n",
       " ('odebrecht', 0.001176983081206421),\n",
       " ('qualquer', 0.001176983081206421),\n",
       " ('ano', 0.0011688659565084459),\n",
       " ('delação', 0.0011688659565084459),\n",
       " ('câmara', 0.0011661602482757874),\n",
       " ('ministério', 0.0011526317071124952),\n",
       " ('dias', 0.00114451458241452),\n",
       " ('eduardo', 0.0011363974577165445),\n",
       " ('filho', 0.0011363974577165445),\n",
       " ('defesa', 0.0011309860412512278),\n",
       " ('processo', 0.0011309860412512278),\n",
       " ('grupo', 0.0011309860412512278),\n",
       " ('senado', 0.0011282803330185693),\n",
       " ('redes', 0.0011255746247859108),\n",
       " ('vida', 0.0011174575000879356),\n",
       " ('2', 0.0011120460836226186),\n",
       " ('pra', 0.0011093403753899601),\n",
       " ('política', 0.0011012232506919849),\n",
       " ('preso', 0.0010904004177613512),\n",
       " ('bolsonaro', 0.0010876947095286927),\n",
       " ('informações', 0.0010687547519000835),\n",
       " ('momento', 0.0010633433354347668),\n",
       " ('apenas', 0.0010579319189694498),\n",
       " ('rousseff', 0.001047109086038816),\n",
       " ('poderá', 0.0010362862531081824),\n",
       " ('3', 0.0010362862531081824),\n",
       " ('seria', 0.0010362862531081824),\n",
       " ('pmdb', 0.0010362862531081824),\n",
       " ('abaixo', 0.0010308748366428654),\n",
       " ('povo', 0.001028169128410207),\n",
       " ('josé', 0.0010173462954795732),\n",
       " ('além', 0.0009902892131529888),\n",
       " ('trump', 0.0009767606719896967),\n",
       " ('lei', 0.0009740549637570382),\n",
       " ('família', 0.0009632321308264045),\n",
       " ('maior', 0.0009578207143610876),\n",
       " ('kim', 0.0009497035896631123),\n",
       " ('5', 0.0009497035896631123),\n",
       " ('coréia', 0.0009469978814304538)]"
      ]
     },
     "execution_count": 42,
     "metadata": {},
     "output_type": "execute_result"
    }
   ],
   "source": [
    "rdd_fake_top100_stopwords"
   ]
  },
  {
   "cell_type": "markdown",
   "metadata": {},
   "source": [
    "# True News"
   ]
  },
  {
   "cell_type": "markdown",
   "metadata": {},
   "source": [
    "## Ajustando true news"
   ]
  },
  {
   "cell_type": "code",
   "execution_count": 43,
   "metadata": {
    "ExecuteTime": {
     "end_time": "2020-06-05T18:12:35.962835Z",
     "start_time": "2020-06-05T18:12:16.308163Z"
    }
   },
   "outputs": [],
   "source": [
    "rdd_true_splitted = [re.findall(r'\\w+', line) for line in rdd_true.collect()]"
   ]
  },
  {
   "cell_type": "code",
   "execution_count": 44,
   "metadata": {
    "ExecuteTime": {
     "end_time": "2020-06-05T18:12:36.061983Z",
     "start_time": "2020-06-05T18:12:35.964357Z"
    }
   },
   "outputs": [],
   "source": [
    "true_splitted_flatten = [val for sublist in rdd_true_splitted for val in sublist]"
   ]
  },
  {
   "cell_type": "code",
   "execution_count": 45,
   "metadata": {
    "ExecuteTime": {
     "end_time": "2020-06-05T18:12:36.832849Z",
     "start_time": "2020-06-05T18:12:36.063449Z"
    }
   },
   "outputs": [],
   "source": [
    "true_splitted_flatten_lower = list(map(lambda word: word.lower(), true_splitted_flatten))"
   ]
  },
  {
   "cell_type": "markdown",
   "metadata": {},
   "source": [
    "## Calculando frequência de palavras em true news com stopwords"
   ]
  },
  {
   "cell_type": "code",
   "execution_count": 46,
   "metadata": {
    "ExecuteTime": {
     "end_time": "2020-06-05T18:12:37.995529Z",
     "start_time": "2020-06-05T18:12:36.834329Z"
    }
   },
   "outputs": [],
   "source": [
    "rdd_true_splitted = sc.parallelize(true_splitted_flatten_lower)"
   ]
  },
  {
   "cell_type": "code",
   "execution_count": 47,
   "metadata": {
    "ExecuteTime": {
     "end_time": "2020-06-05T18:12:37.999970Z",
     "start_time": "2020-06-05T18:12:37.997066Z"
    }
   },
   "outputs": [],
   "source": [
    "rdd_true_count = rdd_true_splitted.map(lambda x: (x,1))"
   ]
  },
  {
   "cell_type": "code",
   "execution_count": 48,
   "metadata": {
    "ExecuteTime": {
     "end_time": "2020-06-05T18:12:38.016621Z",
     "start_time": "2020-06-05T18:12:38.001329Z"
    }
   },
   "outputs": [],
   "source": [
    "rdd_true_reduce = rdd_true_count.reduceByKey(lambda x,y: x + y)"
   ]
  },
  {
   "cell_type": "code",
   "execution_count": 49,
   "metadata": {
    "ExecuteTime": {
     "end_time": "2020-06-05T18:12:38.424972Z",
     "start_time": "2020-06-05T18:12:38.017951Z"
    }
   },
   "outputs": [],
   "source": [
    "rdd_true_total = rdd_true_count.count()"
   ]
  },
  {
   "cell_type": "code",
   "execution_count": 50,
   "metadata": {
    "ExecuteTime": {
     "end_time": "2020-06-05T18:12:38.429888Z",
     "start_time": "2020-06-05T18:12:38.426524Z"
    }
   },
   "outputs": [
    {
     "data": {
      "text/plain": [
       "3983541"
      ]
     },
     "execution_count": 50,
     "metadata": {},
     "output_type": "execute_result"
    }
   ],
   "source": [
    "rdd_true_total"
   ]
  },
  {
   "cell_type": "code",
   "execution_count": 51,
   "metadata": {
    "ExecuteTime": {
     "end_time": "2020-06-05T18:12:38.434037Z",
     "start_time": "2020-06-05T18:12:38.431184Z"
    }
   },
   "outputs": [],
   "source": [
    "rdd_true_freq = rdd_true_reduce.map(lambda x: (x[0], x[1] / rdd_true_total))"
   ]
  },
  {
   "cell_type": "markdown",
   "metadata": {},
   "source": [
    "## Top 100 palavras em true news com stopwords"
   ]
  },
  {
   "cell_type": "code",
   "execution_count": 52,
   "metadata": {
    "ExecuteTime": {
     "end_time": "2020-06-05T18:12:39.309004Z",
     "start_time": "2020-06-05T18:12:38.435341Z"
    }
   },
   "outputs": [],
   "source": [
    "rdd_true_top100 = rdd_true_freq.takeOrdered(100, lambda el: -el[1])"
   ]
  },
  {
   "cell_type": "code",
   "execution_count": 53,
   "metadata": {
    "ExecuteTime": {
     "end_time": "2020-06-05T18:12:39.324011Z",
     "start_time": "2020-06-05T18:12:39.311218Z"
    }
   },
   "outputs": [
    {
     "data": {
      "text/plain": [
       "[('de', 0.046903998226703325),\n",
       " ('a', 0.03462070554815427),\n",
       " ('o', 0.03267043065453575),\n",
       " ('que', 0.028310490591159976),\n",
       " ('e', 0.024379565818451472),\n",
       " ('do', 0.019588853233843958),\n",
       " ('da', 0.017563017425953443),\n",
       " ('em', 0.014750946456933667),\n",
       " ('para', 0.011646171082461559),\n",
       " ('no', 0.009980567540286393),\n",
       " ('com', 0.00923299145157537),\n",
       " ('um', 0.009062791119760032),\n",
       " ('não', 0.009035930595417494),\n",
       " ('na', 0.008426673655423654),\n",
       " ('é', 0.008150537423864847),\n",
       " ('uma', 0.007804111969727436),\n",
       " ('os', 0.007291251677841398),\n",
       " ('se', 0.006263271797629295),\n",
       " ('por', 0.00612470161597433),\n",
       " ('as', 0.005015889129796831),\n",
       " ('foi', 0.0048240999653323515),\n",
       " ('ao', 0.004624528779796668),\n",
       " ('dos', 0.00446763319368371),\n",
       " ('como', 0.004211328564209581),\n",
       " ('mais', 0.003831515729347332),\n",
       " ('ele', 0.0035563836295396485),\n",
       " ('presidente', 0.00349186816453),\n",
       " ('à', 0.0032333042386158447),\n",
       " ('mas', 0.0031404220516369733),\n",
       " ('das', 0.0026536691852801315),\n",
       " ('pelo', 0.0026104915199818453),\n",
       " ('ex', 0.002531918210456476),\n",
       " ('são', 0.0024156899602639963),\n",
       " ('ser', 0.002412426532072847),\n",
       " ('também', 0.0023923438970503883),\n",
       " ('pela', 0.0022924327878136564),\n",
       " ('lula', 0.002215365675914971),\n",
       " ('tem', 0.0021124421714248704),\n",
       " ('sobre', 0.002085581647082332),\n",
       " ('anos', 0.00205746595805089),\n",
       " ('disse', 0.0020557087274864247),\n",
       " ('ou', 0.0020406467512195806),\n",
       " ('eu', 0.001962575507569773),\n",
       " ('federal', 0.0019221592045870746),\n",
       " ('já', 0.0019086034259469151),\n",
       " ('está', 0.0018355528410527217),\n",
       " ('sua', 0.0018006592627011998),\n",
       " ('ainda', 0.0017652636184741163),\n",
       " ('isso', 0.0017416665223227274),\n",
       " ('governo', 0.0017183204591091192),\n",
       " ('segundo', 0.001704262614593398),\n",
       " ('r', 0.0015990798136632709),\n",
       " ('seu', 0.0015649393341250913),\n",
       " ('entre', 0.001539836040347018),\n",
       " ('nos', 0.0014820984646574493),\n",
       " ('temer', 0.0014697978507061933),\n",
       " ('até', 0.0014622668625727713),\n",
       " ('brasil', 0.0014424352604880933),\n",
       " ('foram', 0.0014421842275503126),\n",
       " ('quando', 0.001431640844163522),\n",
       " ('há', 0.0014241098560301),\n",
       " ('ter', 0.0014160768020211165),\n",
       " ('diz', 0.0013746563672872953),\n",
       " ('ela', 0.0013026099141442249),\n",
       " ('era', 0.001287547937877381),\n",
       " ('ministro', 0.0012657080722904572),\n",
       " ('contra', 0.0012581770841570352),\n",
       " ('muito', 0.0012368392844456727),\n",
       " ('pessoas', 0.0012155014847343105),\n",
       " ('dia', 0.0011956698826496325),\n",
       " ('país', 0.0011956698826496325),\n",
       " ('ano', 0.0011926574873962637),\n",
       " ('feira', 0.001130401318826642),\n",
       " ('pode', 0.0011296482200132997),\n",
       " ('vai', 0.0011198579354398512),\n",
       " ('nas', 0.0011198579354398512),\n",
       " ('afirmou', 0.0011135821119953328),\n",
       " ('após', 0.0010909891475950667),\n",
       " ('caso', 0.0010867215876527944),\n",
       " ('sem', 0.001084211258274987),\n",
       " ('mesmo', 0.0010636265573769669),\n",
       " ('estado', 0.001047560449359),\n",
       " ('justiça', 0.0010463052846700963),\n",
       " ('porque', 0.0010259716167098569),\n",
       " ('depois', 0.0010199468262031192),\n",
       " ('jato', 0.0010018724546829066),\n",
       " ('lava', 0.0010001152241184415),\n",
       " ('público', 0.000991078038358335),\n",
       " ('dois', 0.000967480942206946),\n",
       " ('paulo', 0.0009549292953179093),\n",
       " ('milhões', 0.0009499086365622947),\n",
       " ('defesa', 0.0009456410766200223),\n",
       " ('polícia', 0.0009451390107444608),\n",
       " ('essa', 0.0009310811662287397),\n",
       " ('aos', 0.0009125047288329654),\n",
       " ('acordo', 0.0009029654771972976),\n",
       " ('só', 0.0008919200279349453),\n",
       " ('processo', 0.0008884055668060151),\n",
       " ('esse', 0.000885644204490427),\n",
       " ('ministério', 0.0008833849080504004)]"
      ]
     },
     "execution_count": 53,
     "metadata": {},
     "output_type": "execute_result"
    }
   ],
   "source": [
    "rdd_true_top100"
   ]
  },
  {
   "cell_type": "markdown",
   "metadata": {},
   "source": [
    "## True news sem stopwords"
   ]
  },
  {
   "cell_type": "code",
   "execution_count": 54,
   "metadata": {
    "ExecuteTime": {
     "end_time": "2020-06-05T18:12:51.017991Z",
     "start_time": "2020-06-05T18:12:39.326141Z"
    }
   },
   "outputs": [],
   "source": [
    "true_sem_stopwords  = []\n",
    "\n",
    "for p in true_splitted_flatten_lower:\n",
    "    if not p in stopwords:\n",
    "        true_sem_stopwords.append(p)"
   ]
  },
  {
   "cell_type": "code",
   "execution_count": 55,
   "metadata": {
    "ExecuteTime": {
     "end_time": "2020-06-05T18:12:51.645939Z",
     "start_time": "2020-06-05T18:12:51.019612Z"
    }
   },
   "outputs": [],
   "source": [
    "rdd_true_stopwords = sc.parallelize(true_sem_stopwords)"
   ]
  },
  {
   "cell_type": "markdown",
   "metadata": {},
   "source": [
    "## Calculando frequência de palavras em true news sem stopwords"
   ]
  },
  {
   "cell_type": "code",
   "execution_count": 56,
   "metadata": {
    "ExecuteTime": {
     "end_time": "2020-06-05T18:12:51.650464Z",
     "start_time": "2020-06-05T18:12:51.647448Z"
    }
   },
   "outputs": [],
   "source": [
    "rdd_true_count_stopwords = rdd_true_stopwords.map(lambda x: (x,1))"
   ]
  },
  {
   "cell_type": "code",
   "execution_count": 57,
   "metadata": {
    "ExecuteTime": {
     "end_time": "2020-06-05T18:12:51.667222Z",
     "start_time": "2020-06-05T18:12:51.651831Z"
    }
   },
   "outputs": [],
   "source": [
    "rdd_true_reduce_stopwords = rdd_true_count_stopwords.reduceByKey(lambda x,y: x + y)"
   ]
  },
  {
   "cell_type": "code",
   "execution_count": 58,
   "metadata": {
    "ExecuteTime": {
     "end_time": "2020-06-05T18:12:51.981749Z",
     "start_time": "2020-06-05T18:12:51.668555Z"
    }
   },
   "outputs": [],
   "source": [
    "rdd_true_total_stopwords = rdd_true_count_stopwords.count()"
   ]
  },
  {
   "cell_type": "code",
   "execution_count": 59,
   "metadata": {
    "ExecuteTime": {
     "end_time": "2020-06-05T18:12:51.987336Z",
     "start_time": "2020-06-05T18:12:51.983417Z"
    }
   },
   "outputs": [],
   "source": [
    "rdd_true_freq_stopwords = rdd_true_reduce_stopwords.map(lambda x: (x[0], x[1] / rdd_true_total_stopwords))"
   ]
  },
  {
   "cell_type": "markdown",
   "metadata": {},
   "source": [
    "## Top 100 palavras em true news sem stopwords"
   ]
  },
  {
   "cell_type": "code",
   "execution_count": 60,
   "metadata": {
    "ExecuteTime": {
     "end_time": "2020-06-05T18:12:52.550933Z",
     "start_time": "2020-06-05T18:12:51.989389Z"
    }
   },
   "outputs": [],
   "source": [
    "rdd_true_top100_stopwords = rdd_true_freq_stopwords.takeOrdered(100, lambda el: -el[1])"
   ]
  },
  {
   "cell_type": "code",
   "execution_count": 61,
   "metadata": {
    "ExecuteTime": {
     "end_time": "2020-06-05T18:12:52.559496Z",
     "start_time": "2020-06-05T18:12:52.552395Z"
    },
    "scrolled": true
   },
   "outputs": [
    {
     "data": {
      "text/plain": [
       "[('presidente', 0.006492533586375668),\n",
       " ('ex', 0.004707670291314521),\n",
       " ('lula', 0.004119094816661773),\n",
       " ('anos', 0.0038255072087659938),\n",
       " ('federal', 0.0035739273667058586),\n",
       " ('governo', 0.0031949239682776023),\n",
       " ('segundo', 0.003168785802868757),\n",
       " ('temer', 0.0027328385440855167),\n",
       " ('brasil', 0.0026819624721290142),\n",
       " ('ministro', 0.002353368392703531),\n",
       " ('pessoas', 0.0022600178019576552),\n",
       " ('dia', 0.002223144318613034),\n",
       " ('país', 0.002223144318613034),\n",
       " ('ano', 0.0022175432831682816),\n",
       " ('feira', 0.0021017885506433957),\n",
       " ('afirmou', 0.0020705161027435273),\n",
       " ('caso', 0.0020205735366944835),\n",
       " ('estado', 0.0019477600759127004),\n",
       " ('justiça', 0.0019454263111440535),\n",
       " ('jato', 0.0018628110383339534),\n",
       " ('lava', 0.0018595437676578476),\n",
       " ('público', 0.0018427406613235901),\n",
       " ('dois', 0.0017988658836730284),\n",
       " ('paulo', 0.0017755282359865595),\n",
       " ('milhões', 0.0017661931769119717),\n",
       " ('defesa', 0.0017582583766985722),\n",
       " ('polícia', 0.0017573248707911137),\n",
       " ('acordo', 0.0016789103745645777),\n",
       " ('processo', 0.0016518387032482737),\n",
       " ('ministério', 0.0016425036441736862),\n",
       " ('rio', 0.001573424207021738),\n",
       " ('dinheiro', 0.0015603551243173154),\n",
       " ('norte', 0.0014992104873787669),\n",
       " ('mil', 0.001478673357414674),\n",
       " ('casa', 0.0014702718042475453),\n",
       " ('tribunal', 0.0014670045335714395),\n",
       " ('decisão', 0.001466071027663981),\n",
       " ('você', 0.001438999356347677),\n",
       " ('odebrecht', 0.0014240632618283367),\n",
       " ('além', 0.001417061967522396),\n",
       " ('durante', 0.0014044596377717027),\n",
       " ('operação', 0.001399792108234409),\n",
       " ('parte', 0.001396058084604574),\n",
       " ('hoje', 0.0013601181071674117),\n",
       " ('empresa', 0.0013339799417585664),\n",
       " ('república', 0.0013167100824705794),\n",
       " ('desde', 0.00130877528225718),\n",
       " ('câmara', 0.0012845041286632523),\n",
       " ('dilma', 0.0012845041286632523),\n",
       " ('prisão', 0.0012803033520796879),\n",
       " ('pt', 0.0012630334927917007),\n",
       " ('segurança', 0.00125603219848576),\n",
       " ('política', 0.001254631939624572),\n",
       " ('qualquer', 0.0012457636335037137),\n",
       " ('1', 0.0012438966216887961),\n",
       " ('corrupção', 0.0012401625980589612),\n",
       " ('stf', 0.0012032891147143402),\n",
       " ('juiz', 0.0011972213263158583),\n",
       " ('grupo', 0.0011939540556397527),\n",
       " ('2', 0.0011906867849636469),\n",
       " ('três', 0.0011841522436114357),\n",
       " ('nacional', 0.0011477455132205441),\n",
       " ('geral', 0.0011472787602668146),\n",
       " ('apenas', 0.0011430779836832502),\n",
       " ('dias', 0.0011430779836832502),\n",
       " ('meio', 0.001142611230729521),\n",
       " ('primeira', 0.001132809418701204),\n",
       " ('maior', 0.0011202070889505106),\n",
       " ('forma', 0.0011164730653206757),\n",
       " ('conta', 0.0011085382651072763),\n",
       " ('bem', 0.0010945356764953949),\n",
       " ('segunda', 0.0010730650406238433),\n",
       " ('deputado', 0.0010674640051790908),\n",
       " ('mundo', 0.0010655969933641733),\n",
       " ('momento', 0.0010599959579194206),\n",
       " ('supremo', 0.001055328428382127),\n",
       " ('lei', 0.0010525279106597507),\n",
       " ('pmdb', 0.0010483271340761863),\n",
       " ('tempo', 0.00104552661635381),\n",
       " ('moro', 0.0010417925927239749),\n",
       " ('ação', 0.0010315240277419286),\n",
       " ('denúncia', 0.0010291902629732817),\n",
       " ('trabalho', 0.0010291902629732817),\n",
       " ('pedido', 0.0010254562393434466),\n",
       " ('gente', 0.0010249894863897172),\n",
       " ('afirma', 0.0010105201448241065),\n",
       " ('menos', 0.001008653133009189),\n",
       " ('4', 0.0010016518387032482),\n",
       " ('vida', 0.0009843819794152612),\n",
       " ('estados', 0.0009797144498779674),\n",
       " ('coreia', 0.000975513673294403),\n",
       " ('sul', 0.0009703793908033798),\n",
       " ('3', 0.0009657118612660861),\n",
       " ('5', 0.0009517092726542047),\n",
       " ('assim', 0.0009507757667467459),\n",
       " ('relação', 0.0009498422608392871),\n",
       " ('partido', 0.0009493755078855577),\n",
       " ('2017', 0.000948442001978099),\n",
       " ('silva', 0.0009237040954304419),\n",
       " ('cidade', 0.0009218370836155243)]"
      ]
     },
     "execution_count": 61,
     "metadata": {},
     "output_type": "execute_result"
    }
   ],
   "source": [
    "rdd_true_top100_stopwords"
   ]
  },
  {
   "cell_type": "markdown",
   "metadata": {},
   "source": [
    "# Diferença entre as bases top 100"
   ]
  },
  {
   "cell_type": "markdown",
   "metadata": {},
   "source": [
    "## Com stopwords"
   ]
  },
  {
   "cell_type": "code",
   "execution_count": 62,
   "metadata": {
    "ExecuteTime": {
     "end_time": "2020-06-05T18:12:52.565733Z",
     "start_time": "2020-06-05T18:12:52.560808Z"
    }
   },
   "outputs": [],
   "source": [
    "rdd_fake_top100_2 = sc.parallelize(rdd_fake_top100)"
   ]
  },
  {
   "cell_type": "code",
   "execution_count": 63,
   "metadata": {
    "ExecuteTime": {
     "end_time": "2020-06-05T18:12:52.571152Z",
     "start_time": "2020-06-05T18:12:52.567036Z"
    }
   },
   "outputs": [],
   "source": [
    "rdd_true_top100_2 = sc.parallelize(rdd_true_top100)"
   ]
  },
  {
   "cell_type": "code",
   "execution_count": 64,
   "metadata": {
    "ExecuteTime": {
     "end_time": "2020-06-05T18:12:52.602670Z",
     "start_time": "2020-06-05T18:12:52.572605Z"
    }
   },
   "outputs": [],
   "source": [
    "rdd_fake_true = rdd_fake_top100_2.fullOuterJoin(rdd_true_top100_2)"
   ]
  },
  {
   "cell_type": "code",
   "execution_count": 65,
   "metadata": {
    "ExecuteTime": {
     "end_time": "2020-06-05T18:12:52.606766Z",
     "start_time": "2020-06-05T18:12:52.603964Z"
    }
   },
   "outputs": [],
   "source": [
    "rdd_fake_true2 = rdd_fake_true.map(lambda x: (x[0], x[1][0], x[1][1]))"
   ]
  },
  {
   "cell_type": "code",
   "execution_count": 66,
   "metadata": {
    "ExecuteTime": {
     "end_time": "2020-06-05T18:12:52.911824Z",
     "start_time": "2020-06-05T18:12:52.608103Z"
    }
   },
   "outputs": [],
   "source": [
    "fake_true = rdd_fake_true2.collect()"
   ]
  },
  {
   "cell_type": "code",
   "execution_count": 67,
   "metadata": {
    "ExecuteTime": {
     "end_time": "2020-06-05T18:12:52.922966Z",
     "start_time": "2020-06-05T18:12:52.913367Z"
    }
   },
   "outputs": [
    {
     "data": {
      "text/plain": [
       "[('tem', 0.0023234638450186818, 0.0021124421714248704),\n",
       " ('diz', 0.001152761019632821, 0.0013746563672872953),\n",
       " ('ano', None, 0.0011926574873962637),\n",
       " ('com', 0.009284884477198208, 0.00923299145157537),\n",
       " ('se', 0.007191673806010206, 0.006263271797629295),\n",
       " ('ele', 0.003559953291499023, 0.0035563836295396485),\n",
       " ('federal', 0.0017597921142773415, 0.0019221592045870746),\n",
       " ('contra', 0.0014054414506548011, 0.0012581770841570352),\n",
       " ('foram', 0.001380023892504661, 0.0014421842275503126),\n",
       " ('pode', 0.001278353659904101, 0.0011296482200132997),\n",
       " ('após', 0.001103421053811961, 0.0010909891475950667),\n",
       " ('vídeo', 0.001098935602373701, None),\n",
       " ('da', 0.016401800759237414, 0.017563017425953443),\n",
       " ('uma', 0.008558241344200086, 0.007804111969727436),\n",
       " ('porque', None, 0.0010259716167098569),\n",
       " ('defesa', None, 0.0009456410766200223),\n",
       " ('essa', None, 0.0009310811662287397),\n",
       " ('na', 0.007327732499637426, 0.008426673655423654),\n",
       " ('eu', 0.0017523163618802413, 0.001962575507569773),\n",
       " ('ministro', 0.0016685879350327214, 0.0012657080722904572),\n",
       " ('até', 0.001399460848737121, 0.0014622668625727713),\n",
       " ('acordo', 0.001335169378122061, 0.0009029654771972976),\n",
       " ('moro', 0.0012693827570275811, None),\n",
       " ('entre', 0.0011826640292212209, 0.001539836040347018),\n",
       " ('aos', None, 0.0009125047288329654),\n",
       " ('do', 0.020087346691007715, 0.019588853233843958),\n",
       " ('em', 0.01249048710507469, 0.014750946456933667),\n",
       " ('um', 0.01109700685825525, 0.009062791119760032),\n",
       " ('como', 0.0032474668413002426, 0.004211328564209581),\n",
       " ('ex', 0.0030516021284962224, 0.002531918210456476),\n",
       " ('seu', 0.0018988411088634017, 0.0015649393341250913),\n",
       " ('ou', 0.0018106272305776214, 0.0020406467512195806),\n",
       " ('sobre', 0.0016895200417446014, 0.002085581647082332),\n",
       " ('mas', 0.0015743934548292614, 0.0031404220516369733),\n",
       " ('mesmo', 0.0010226829279232808, 0.0010636265573769669),\n",
       " ('afirmou', None, 0.0011135821119953328),\n",
       " ('jato', 0.001354606334354521, 0.0010018724546829066),\n",
       " ('será', 0.0011363143643592008, None),\n",
       " ('deputado', 0.001070527743264721, None),\n",
       " ('era', 0.001052585937511681, 0.001287547937877381),\n",
       " ('eua', 0.0009808187144995208, None),\n",
       " ('ministério', None, 0.0008833849080504004),\n",
       " ('que', 0.028192557439943543, 0.028310490591159976),\n",
       " ('os', 0.006725186856431166, 0.007291251677841398),\n",
       " ('à', 0.002251696622006522, 0.0032333042386158447),\n",
       " ('durante', 0.001281343960862941, None),\n",
       " ('hoje', 0.001234994296000921, None),\n",
       " ('ela', 0.001191634932097741, 0.0013026099141442249),\n",
       " ('você', 0.001037634432717481, None),\n",
       " ('muito', 0.0009479254039522808, 0.0012368392844456727),\n",
       " ('dois', None, 0.000967480942206946),\n",
       " ('o', 0.03560102806546965, 0.03267043065453575),\n",
       " ('mais', 0.0039546730180659035, 0.003831515729347332),\n",
       " ('já', 0.0021918906028297216, 0.0019086034259469151),\n",
       " ('brasil', 0.002127599132214662, 0.0014424352604880933),\n",
       " ('seus', 0.001057071388949941, None),\n",
       " ('depois', None, 0.0010199468262031192),\n",
       " ('foi', 0.005346658114405925, 0.0048240999653323515),\n",
       " ('lula', 0.004588616821339984, 0.002215365675914971),\n",
       " ('presidente', 0.004476480535383484, 0.00349186816453),\n",
       " ('temer', 0.0017986660267422614, 0.0014697978507061933),\n",
       " ('r', 0.0017792290705098016, 0.0015990798136632709),\n",
       " ('milhões', 0.001240974897918601, 0.0009499086365622947),\n",
       " ('ter', 0.001170702825385861, 0.0014160768020211165),\n",
       " ('petista', 0.0009598866077876408, None),\n",
       " ('segundo', None, 0.001704262614593398),\n",
       " ('a', 0.031897540327946304, 0.03462070554815427),\n",
       " ('e', 0.02316735667861292, 0.024379565818451472),\n",
       " ('está', 0.0030994469438376626, 0.0018355528410527217),\n",
       " ('sua', 0.002115637928379302, 0.0018006592627011998),\n",
       " ('são', 0.0020827446178320616, 0.0024156899602639963),\n",
       " ('pela', 0.002022938598655262, 0.0022924327878136564),\n",
       " ('anos', 0.0016371897749649013, 0.00205746595805089),\n",
       " ('estão', 0.0011751882768241209, None),\n",
       " ('dinheiro', 0.001083984097579501, None),\n",
       " ('juiz', 0.0009434399525140208, None),\n",
       " ('só', 0.0009299835981992408, 0.0008919200279349453),\n",
       " ('polícia', 0.0009210126953227208, 0.0009451390107444608),\n",
       " ('paulo', None, 0.0009549292953179093),\n",
       " ('para', 0.011325764881606509, 0.011646171082461559),\n",
       " ('as', 0.004235761308196863, 0.005015889129796831),\n",
       " ('ainda', 0.0014263735573666811, 0.0017652636184741163),\n",
       " ('norte', 0.001215557339768461, None),\n",
       " ('feira', None, 0.001130401318826642),\n",
       " ('justiça', None, 0.0010463052846700963),\n",
       " ('de', 0.043468509888177694, 0.046903998226703325),\n",
       " ('governo', 0.0017971708762628414, 0.0017183204591091192),\n",
       " ('pt', 0.001380023892504661, None),\n",
       " ('nos', 0.001215557339768461, 0.0014820984646574493),\n",
       " ('dia', 0.0011019259033325408, 0.0011956698826496325),\n",
       " ('processo', None, 0.0008884055668060151),\n",
       " ('no', 0.008380318437149106, 0.009980567540286393),\n",
       " ('disse', 0.0032908262052034226, 0.0020557087274864247),\n",
       " ('dilma', 0.002827329556583222, None),\n",
       " ('das', 0.0019900452881080216, 0.0026536691852801315),\n",
       " ('país', 0.0018480059925631215, 0.0011956698826496325),\n",
       " ('vai', 0.001341149980039741, 0.0011198579354398512),\n",
       " ('isso', 0.001288819713260041, 0.0017416665223227274),\n",
       " ('pessoas', 0.001057071388949941, 0.0012155014847343105),\n",
       " ('caso', 0.0009314787486786607, 0.0010867215876527944),\n",
       " ('estado', None, 0.001047560449359),\n",
       " ('não', 0.009337214743977907, 0.009035930595417494),\n",
       " ('por', 0.004922035378250644, 0.00612470161597433),\n",
       " ('ao', 0.004210343750046724, 0.004624528779796668),\n",
       " ('pelo', 0.002480454645357782, 0.0026104915199818453),\n",
       " ('ser', 0.002440085582413442, 0.002412426532072847),\n",
       " ('nas', 0.001354606334354521, 0.0011198579354398512),\n",
       " ('eles', 0.0010301586803203807, None),\n",
       " ('sem', None, 0.001084211258274987),\n",
       " ('lava', 0.001339654829560321, 0.0010001152241184415),\n",
       " ('há', 0.001092955000456021, 0.0014241098560301),\n",
       " ('é', 0.008369852383793166, 0.008150537423864847),\n",
       " ('dos', 0.003924770008477504, 0.00446763319368371),\n",
       " ('também', 0.002362337757483602, 0.0023923438970503883),\n",
       " ('quando', 0.001164722223468181, 0.001431640844163522),\n",
       " ('esse', 0.0009225078458021407, 0.000885644204490427),\n",
       " ('público', None, 0.000991078038358335)]"
      ]
     },
     "execution_count": 67,
     "metadata": {},
     "output_type": "execute_result"
    }
   ],
   "source": [
    "fake_true"
   ]
  },
  {
   "cell_type": "code",
   "execution_count": 68,
   "metadata": {
    "ExecuteTime": {
     "end_time": "2020-06-05T18:12:53.460302Z",
     "start_time": "2020-06-05T18:12:52.927893Z"
    }
   },
   "outputs": [],
   "source": [
    "import pandas as pd"
   ]
  },
  {
   "cell_type": "code",
   "execution_count": 69,
   "metadata": {
    "ExecuteTime": {
     "end_time": "2020-06-05T18:12:53.465771Z",
     "start_time": "2020-06-05T18:12:53.462069Z"
    }
   },
   "outputs": [],
   "source": [
    "df = pd.DataFrame(fake_true, columns = ['palavra', '%fake', '%true'])"
   ]
  },
  {
   "cell_type": "code",
   "execution_count": 70,
   "metadata": {
    "ExecuteTime": {
     "end_time": "2020-06-05T18:12:53.478457Z",
     "start_time": "2020-06-05T18:12:53.467086Z"
    }
   },
   "outputs": [
    {
     "data": {
      "text/html": [
       "<div>\n",
       "<style scoped>\n",
       "    .dataframe tbody tr th:only-of-type {\n",
       "        vertical-align: middle;\n",
       "    }\n",
       "\n",
       "    .dataframe tbody tr th {\n",
       "        vertical-align: top;\n",
       "    }\n",
       "\n",
       "    .dataframe thead th {\n",
       "        text-align: right;\n",
       "    }\n",
       "</style>\n",
       "<table border=\"1\" class=\"dataframe\">\n",
       "  <thead>\n",
       "    <tr style=\"text-align: right;\">\n",
       "      <th></th>\n",
       "      <th>palavra</th>\n",
       "      <th>%fake</th>\n",
       "      <th>%true</th>\n",
       "    </tr>\n",
       "  </thead>\n",
       "  <tbody>\n",
       "    <tr>\n",
       "      <th>0</th>\n",
       "      <td>tem</td>\n",
       "      <td>0.002323</td>\n",
       "      <td>0.002112</td>\n",
       "    </tr>\n",
       "    <tr>\n",
       "      <th>1</th>\n",
       "      <td>diz</td>\n",
       "      <td>0.001153</td>\n",
       "      <td>0.001375</td>\n",
       "    </tr>\n",
       "    <tr>\n",
       "      <th>2</th>\n",
       "      <td>ano</td>\n",
       "      <td>NaN</td>\n",
       "      <td>0.001193</td>\n",
       "    </tr>\n",
       "    <tr>\n",
       "      <th>3</th>\n",
       "      <td>com</td>\n",
       "      <td>0.009285</td>\n",
       "      <td>0.009233</td>\n",
       "    </tr>\n",
       "    <tr>\n",
       "      <th>4</th>\n",
       "      <td>se</td>\n",
       "      <td>0.007192</td>\n",
       "      <td>0.006263</td>\n",
       "    </tr>\n",
       "    <tr>\n",
       "      <th>...</th>\n",
       "      <td>...</td>\n",
       "      <td>...</td>\n",
       "      <td>...</td>\n",
       "    </tr>\n",
       "    <tr>\n",
       "      <th>112</th>\n",
       "      <td>dos</td>\n",
       "      <td>0.003925</td>\n",
       "      <td>0.004468</td>\n",
       "    </tr>\n",
       "    <tr>\n",
       "      <th>113</th>\n",
       "      <td>também</td>\n",
       "      <td>0.002362</td>\n",
       "      <td>0.002392</td>\n",
       "    </tr>\n",
       "    <tr>\n",
       "      <th>114</th>\n",
       "      <td>quando</td>\n",
       "      <td>0.001165</td>\n",
       "      <td>0.001432</td>\n",
       "    </tr>\n",
       "    <tr>\n",
       "      <th>115</th>\n",
       "      <td>esse</td>\n",
       "      <td>0.000923</td>\n",
       "      <td>0.000886</td>\n",
       "    </tr>\n",
       "    <tr>\n",
       "      <th>116</th>\n",
       "      <td>público</td>\n",
       "      <td>NaN</td>\n",
       "      <td>0.000991</td>\n",
       "    </tr>\n",
       "  </tbody>\n",
       "</table>\n",
       "<p>117 rows × 3 columns</p>\n",
       "</div>"
      ],
      "text/plain": [
       "     palavra     %fake     %true\n",
       "0        tem  0.002323  0.002112\n",
       "1        diz  0.001153  0.001375\n",
       "2        ano       NaN  0.001193\n",
       "3        com  0.009285  0.009233\n",
       "4         se  0.007192  0.006263\n",
       "..       ...       ...       ...\n",
       "112      dos  0.003925  0.004468\n",
       "113   também  0.002362  0.002392\n",
       "114   quando  0.001165  0.001432\n",
       "115     esse  0.000923  0.000886\n",
       "116  público       NaN  0.000991\n",
       "\n",
       "[117 rows x 3 columns]"
      ]
     },
     "execution_count": 70,
     "metadata": {},
     "output_type": "execute_result"
    }
   ],
   "source": [
    "df"
   ]
  },
  {
   "cell_type": "code",
   "execution_count": 71,
   "metadata": {
    "ExecuteTime": {
     "end_time": "2020-06-05T18:12:53.482685Z",
     "start_time": "2020-06-05T18:12:53.479737Z"
    }
   },
   "outputs": [],
   "source": [
    "df['%fake'] = df['%fake'].fillna(0)"
   ]
  },
  {
   "cell_type": "code",
   "execution_count": 72,
   "metadata": {
    "ExecuteTime": {
     "end_time": "2020-06-05T18:12:53.486937Z",
     "start_time": "2020-06-05T18:12:53.484027Z"
    }
   },
   "outputs": [],
   "source": [
    "df['%true'] = df['%true'].fillna(0)"
   ]
  },
  {
   "cell_type": "code",
   "execution_count": 73,
   "metadata": {
    "ExecuteTime": {
     "end_time": "2020-06-05T18:12:53.491671Z",
     "start_time": "2020-06-05T18:12:53.488212Z"
    }
   },
   "outputs": [],
   "source": [
    "df['diff'] = df['%fake'].sub(df['%true'], axis = 0)"
   ]
  },
  {
   "cell_type": "code",
   "execution_count": 74,
   "metadata": {
    "ExecuteTime": {
     "end_time": "2020-06-05T18:12:53.504719Z",
     "start_time": "2020-06-05T18:12:53.493000Z"
    }
   },
   "outputs": [
    {
     "data": {
      "text/html": [
       "<div>\n",
       "<style scoped>\n",
       "    .dataframe tbody tr th:only-of-type {\n",
       "        vertical-align: middle;\n",
       "    }\n",
       "\n",
       "    .dataframe tbody tr th {\n",
       "        vertical-align: top;\n",
       "    }\n",
       "\n",
       "    .dataframe thead th {\n",
       "        text-align: right;\n",
       "    }\n",
       "</style>\n",
       "<table border=\"1\" class=\"dataframe\">\n",
       "  <thead>\n",
       "    <tr style=\"text-align: right;\">\n",
       "      <th></th>\n",
       "      <th>palavra</th>\n",
       "      <th>%fake</th>\n",
       "      <th>%true</th>\n",
       "      <th>diff</th>\n",
       "    </tr>\n",
       "  </thead>\n",
       "  <tbody>\n",
       "    <tr>\n",
       "      <th>0</th>\n",
       "      <td>tem</td>\n",
       "      <td>0.002323</td>\n",
       "      <td>0.002112</td>\n",
       "      <td>0.000211</td>\n",
       "    </tr>\n",
       "    <tr>\n",
       "      <th>1</th>\n",
       "      <td>diz</td>\n",
       "      <td>0.001153</td>\n",
       "      <td>0.001375</td>\n",
       "      <td>-0.000222</td>\n",
       "    </tr>\n",
       "    <tr>\n",
       "      <th>2</th>\n",
       "      <td>ano</td>\n",
       "      <td>0.000000</td>\n",
       "      <td>0.001193</td>\n",
       "      <td>-0.001193</td>\n",
       "    </tr>\n",
       "    <tr>\n",
       "      <th>3</th>\n",
       "      <td>com</td>\n",
       "      <td>0.009285</td>\n",
       "      <td>0.009233</td>\n",
       "      <td>0.000052</td>\n",
       "    </tr>\n",
       "    <tr>\n",
       "      <th>4</th>\n",
       "      <td>se</td>\n",
       "      <td>0.007192</td>\n",
       "      <td>0.006263</td>\n",
       "      <td>0.000928</td>\n",
       "    </tr>\n",
       "    <tr>\n",
       "      <th>...</th>\n",
       "      <td>...</td>\n",
       "      <td>...</td>\n",
       "      <td>...</td>\n",
       "      <td>...</td>\n",
       "    </tr>\n",
       "    <tr>\n",
       "      <th>112</th>\n",
       "      <td>dos</td>\n",
       "      <td>0.003925</td>\n",
       "      <td>0.004468</td>\n",
       "      <td>-0.000543</td>\n",
       "    </tr>\n",
       "    <tr>\n",
       "      <th>113</th>\n",
       "      <td>também</td>\n",
       "      <td>0.002362</td>\n",
       "      <td>0.002392</td>\n",
       "      <td>-0.000030</td>\n",
       "    </tr>\n",
       "    <tr>\n",
       "      <th>114</th>\n",
       "      <td>quando</td>\n",
       "      <td>0.001165</td>\n",
       "      <td>0.001432</td>\n",
       "      <td>-0.000267</td>\n",
       "    </tr>\n",
       "    <tr>\n",
       "      <th>115</th>\n",
       "      <td>esse</td>\n",
       "      <td>0.000923</td>\n",
       "      <td>0.000886</td>\n",
       "      <td>0.000037</td>\n",
       "    </tr>\n",
       "    <tr>\n",
       "      <th>116</th>\n",
       "      <td>público</td>\n",
       "      <td>0.000000</td>\n",
       "      <td>0.000991</td>\n",
       "      <td>-0.000991</td>\n",
       "    </tr>\n",
       "  </tbody>\n",
       "</table>\n",
       "<p>117 rows × 4 columns</p>\n",
       "</div>"
      ],
      "text/plain": [
       "     palavra     %fake     %true      diff\n",
       "0        tem  0.002323  0.002112  0.000211\n",
       "1        diz  0.001153  0.001375 -0.000222\n",
       "2        ano  0.000000  0.001193 -0.001193\n",
       "3        com  0.009285  0.009233  0.000052\n",
       "4         se  0.007192  0.006263  0.000928\n",
       "..       ...       ...       ...       ...\n",
       "112      dos  0.003925  0.004468 -0.000543\n",
       "113   também  0.002362  0.002392 -0.000030\n",
       "114   quando  0.001165  0.001432 -0.000267\n",
       "115     esse  0.000923  0.000886  0.000037\n",
       "116  público  0.000000  0.000991 -0.000991\n",
       "\n",
       "[117 rows x 4 columns]"
      ]
     },
     "execution_count": 74,
     "metadata": {},
     "output_type": "execute_result"
    }
   ],
   "source": [
    "df"
   ]
  },
  {
   "cell_type": "code",
   "execution_count": 75,
   "metadata": {
    "ExecuteTime": {
     "end_time": "2020-06-05T18:12:53.514371Z",
     "start_time": "2020-06-05T18:12:53.505987Z"
    }
   },
   "outputs": [],
   "source": [
    "df = df.sort_values(by=['diff'])"
   ]
  },
  {
   "cell_type": "code",
   "execution_count": 76,
   "metadata": {
    "ExecuteTime": {
     "end_time": "2020-06-05T18:12:53.526820Z",
     "start_time": "2020-06-05T18:12:53.515650Z"
    }
   },
   "outputs": [
    {
     "data": {
      "text/html": [
       "<div>\n",
       "<style scoped>\n",
       "    .dataframe tbody tr th:only-of-type {\n",
       "        vertical-align: middle;\n",
       "    }\n",
       "\n",
       "    .dataframe tbody tr th {\n",
       "        vertical-align: top;\n",
       "    }\n",
       "\n",
       "    .dataframe thead th {\n",
       "        text-align: right;\n",
       "    }\n",
       "</style>\n",
       "<table border=\"1\" class=\"dataframe\">\n",
       "  <thead>\n",
       "    <tr style=\"text-align: right;\">\n",
       "      <th></th>\n",
       "      <th>palavra</th>\n",
       "      <th>%fake</th>\n",
       "      <th>%true</th>\n",
       "      <th>diff</th>\n",
       "    </tr>\n",
       "  </thead>\n",
       "  <tbody>\n",
       "    <tr>\n",
       "      <th>85</th>\n",
       "      <td>de</td>\n",
       "      <td>0.043469</td>\n",
       "      <td>0.046904</td>\n",
       "      <td>-0.003435</td>\n",
       "    </tr>\n",
       "    <tr>\n",
       "      <th>66</th>\n",
       "      <td>a</td>\n",
       "      <td>0.031898</td>\n",
       "      <td>0.034621</td>\n",
       "      <td>-0.002723</td>\n",
       "    </tr>\n",
       "    <tr>\n",
       "      <th>26</th>\n",
       "      <td>em</td>\n",
       "      <td>0.012490</td>\n",
       "      <td>0.014751</td>\n",
       "      <td>-0.002260</td>\n",
       "    </tr>\n",
       "    <tr>\n",
       "      <th>65</th>\n",
       "      <td>segundo</td>\n",
       "      <td>0.000000</td>\n",
       "      <td>0.001704</td>\n",
       "      <td>-0.001704</td>\n",
       "    </tr>\n",
       "    <tr>\n",
       "      <th>91</th>\n",
       "      <td>no</td>\n",
       "      <td>0.008380</td>\n",
       "      <td>0.009981</td>\n",
       "      <td>-0.001600</td>\n",
       "    </tr>\n",
       "    <tr>\n",
       "      <th>...</th>\n",
       "      <td>...</td>\n",
       "      <td>...</td>\n",
       "      <td>...</td>\n",
       "      <td>...</td>\n",
       "    </tr>\n",
       "    <tr>\n",
       "      <th>87</th>\n",
       "      <td>pt</td>\n",
       "      <td>0.001380</td>\n",
       "      <td>0.000000</td>\n",
       "      <td>0.001380</td>\n",
       "    </tr>\n",
       "    <tr>\n",
       "      <th>27</th>\n",
       "      <td>um</td>\n",
       "      <td>0.011097</td>\n",
       "      <td>0.009063</td>\n",
       "      <td>0.002034</td>\n",
       "    </tr>\n",
       "    <tr>\n",
       "      <th>58</th>\n",
       "      <td>lula</td>\n",
       "      <td>0.004589</td>\n",
       "      <td>0.002215</td>\n",
       "      <td>0.002373</td>\n",
       "    </tr>\n",
       "    <tr>\n",
       "      <th>93</th>\n",
       "      <td>dilma</td>\n",
       "      <td>0.002827</td>\n",
       "      <td>0.000000</td>\n",
       "      <td>0.002827</td>\n",
       "    </tr>\n",
       "    <tr>\n",
       "      <th>51</th>\n",
       "      <td>o</td>\n",
       "      <td>0.035601</td>\n",
       "      <td>0.032670</td>\n",
       "      <td>0.002931</td>\n",
       "    </tr>\n",
       "  </tbody>\n",
       "</table>\n",
       "<p>117 rows × 4 columns</p>\n",
       "</div>"
      ],
      "text/plain": [
       "    palavra     %fake     %true      diff\n",
       "85       de  0.043469  0.046904 -0.003435\n",
       "66        a  0.031898  0.034621 -0.002723\n",
       "26       em  0.012490  0.014751 -0.002260\n",
       "65  segundo  0.000000  0.001704 -0.001704\n",
       "91       no  0.008380  0.009981 -0.001600\n",
       "..      ...       ...       ...       ...\n",
       "87       pt  0.001380  0.000000  0.001380\n",
       "27       um  0.011097  0.009063  0.002034\n",
       "58     lula  0.004589  0.002215  0.002373\n",
       "93    dilma  0.002827  0.000000  0.002827\n",
       "51        o  0.035601  0.032670  0.002931\n",
       "\n",
       "[117 rows x 4 columns]"
      ]
     },
     "execution_count": 76,
     "metadata": {},
     "output_type": "execute_result"
    }
   ],
   "source": [
    "df"
   ]
  },
  {
   "cell_type": "markdown",
   "metadata": {},
   "source": [
    "## Sem stopwords"
   ]
  },
  {
   "cell_type": "code",
   "execution_count": 77,
   "metadata": {
    "ExecuteTime": {
     "end_time": "2020-06-05T18:12:53.533081Z",
     "start_time": "2020-06-05T18:12:53.528092Z"
    }
   },
   "outputs": [],
   "source": [
    "rdd_fake_top100_stopwords_2 = sc.parallelize(rdd_fake_top100_stopwords)"
   ]
  },
  {
   "cell_type": "code",
   "execution_count": 78,
   "metadata": {
    "ExecuteTime": {
     "end_time": "2020-06-05T18:12:53.538835Z",
     "start_time": "2020-06-05T18:12:53.534355Z"
    }
   },
   "outputs": [],
   "source": [
    "rdd_true_top100_stopwords_2 = sc.parallelize(rdd_true_top100_stopwords)"
   ]
  },
  {
   "cell_type": "code",
   "execution_count": 79,
   "metadata": {
    "ExecuteTime": {
     "end_time": "2020-06-05T18:12:53.563500Z",
     "start_time": "2020-06-05T18:12:53.540183Z"
    }
   },
   "outputs": [],
   "source": [
    "rdd_fake_true_stopwords = rdd_fake_top100_stopwords_2.fullOuterJoin(rdd_true_top100_stopwords_2)"
   ]
  },
  {
   "cell_type": "code",
   "execution_count": 80,
   "metadata": {
    "ExecuteTime": {
     "end_time": "2020-06-05T18:12:53.567579Z",
     "start_time": "2020-06-05T18:12:53.564807Z"
    }
   },
   "outputs": [],
   "source": [
    "rdd_fake_true_stopwords2 = rdd_fake_true_stopwords.map(lambda x: (x[0], x[1][0], x[1][1]))"
   ]
  },
  {
   "cell_type": "code",
   "execution_count": 81,
   "metadata": {
    "ExecuteTime": {
     "end_time": "2020-06-05T18:12:53.855459Z",
     "start_time": "2020-06-05T18:12:53.568964Z"
    }
   },
   "outputs": [],
   "source": [
    "fake_true_stopwords = rdd_fake_true_stopwords2.collect()"
   ]
  },
  {
   "cell_type": "code",
   "execution_count": 82,
   "metadata": {
    "ExecuteTime": {
     "end_time": "2020-06-05T18:12:53.861693Z",
     "start_time": "2020-06-05T18:12:53.857050Z"
    }
   },
   "outputs": [],
   "source": [
    "df1 = pd.DataFrame(fake_true_stopwords, columns = ['palavra', '%fake', '%true'])"
   ]
  },
  {
   "cell_type": "code",
   "execution_count": 83,
   "metadata": {
    "ExecuteTime": {
     "end_time": "2020-06-05T18:12:53.867532Z",
     "start_time": "2020-06-05T18:12:53.863027Z"
    }
   },
   "outputs": [],
   "source": [
    "df1['%fake'] = df1['%fake'].fillna(0)"
   ]
  },
  {
   "cell_type": "code",
   "execution_count": 84,
   "metadata": {
    "ExecuteTime": {
     "end_time": "2020-06-05T18:12:53.871701Z",
     "start_time": "2020-06-05T18:12:53.868838Z"
    }
   },
   "outputs": [],
   "source": [
    "df1['%true'] = df1['%true'].fillna(0)"
   ]
  },
  {
   "cell_type": "code",
   "execution_count": 85,
   "metadata": {
    "ExecuteTime": {
     "end_time": "2020-06-05T18:12:53.876453Z",
     "start_time": "2020-06-05T18:12:53.872991Z"
    }
   },
   "outputs": [],
   "source": [
    "df1['diff'] = df1['%fake'].sub(df1['%true'], axis = 0)"
   ]
  },
  {
   "cell_type": "code",
   "execution_count": 86,
   "metadata": {
    "ExecuteTime": {
     "end_time": "2020-06-05T18:12:53.881217Z",
     "start_time": "2020-06-05T18:12:53.877742Z"
    }
   },
   "outputs": [],
   "source": [
    "df1 = df1.sort_values(by=['diff'])"
   ]
  },
  {
   "cell_type": "markdown",
   "metadata": {},
   "source": [
    "# Análise"
   ]
  },
  {
   "cell_type": "code",
   "execution_count": 87,
   "metadata": {
    "ExecuteTime": {
     "end_time": "2020-06-05T18:12:54.055220Z",
     "start_time": "2020-06-05T18:12:53.882523Z"
    }
   },
   "outputs": [],
   "source": [
    "import matplotlib.pyplot as plt"
   ]
  },
  {
   "cell_type": "code",
   "execution_count": 88,
   "metadata": {
    "ExecuteTime": {
     "end_time": "2020-06-05T18:12:55.501151Z",
     "start_time": "2020-06-05T18:12:54.056700Z"
    },
    "scrolled": true
   },
   "outputs": [
    {
     "data": {
      "text/plain": [
       "Text(0.5, 1.0, 'Gráfico 1: Diferença entre as 100 maiores frequências de true news e fake news, com stopwords')"
      ]
     },
     "execution_count": 88,
     "metadata": {},
     "output_type": "execute_result"
    },
    {
     "data": {
      "image/png": "[encoded data removed]",
      "text/plain": [
       "<Figure size 1440x756 with 1 Axes>"
      ]
     },
     "metadata": {
      "needs_background": "light"
     },
     "output_type": "display_data"
    }
   ],
   "source": [
    "ax = df.plot.bar(x='palavra', y='diff', rot=90)\n",
    "fig = plt.gcf()\n",
    "fig.set_size_inches(20, 10.5)\n",
    "plt.title(\"Gráfico 1: Diferença entre as 100 maiores frequências de true news e fake news, com stopwords\")"
   ]
  },
  {
   "cell_type": "code",
   "execution_count": 89,
   "metadata": {
    "ExecuteTime": {
     "end_time": "2020-06-05T18:12:56.927028Z",
     "start_time": "2020-06-05T18:12:55.502776Z"
    }
   },
   "outputs": [
    {
     "data": {
      "text/plain": [
       "Text(0.5, 1.0, 'Gráfico 2: Diferença entre as 100 maiores frequências de true news e fake news, sem stopwords')"
      ]
     },
     "execution_count": 89,
     "metadata": {},
     "output_type": "execute_result"
    },
    {
     "data": {
      "image/png": "[encoded data removed]",
      "text/plain": [
       "<Figure size 1440x756 with 1 Axes>"
      ]
     },
     "metadata": {
      "needs_background": "light"
     },
     "output_type": "display_data"
    }
   ],
   "source": [
    "ax = df1.plot.bar(x='palavra', y='diff', rot=90)\n",
    "fig = plt.gcf()\n",
    "fig.set_size_inches(20, 10.5)\n",
    "plt.title(\"Gráfico 2: Diferença entre as 100 maiores frequências de true news e fake news, sem stopwords\")"
   ]
  },
  {
   "cell_type": "markdown",
   "metadata": {},
   "source": [
    "A análise deve ser feita da seguinte forma: palavras mais à direita, com frequência negativa, são palavras que aparecem mais em notícias verdadeiras. Já palavras mais à esquerda do gráfico (frequência positiva) são palavras que aparecem mais em fake news.\n",
    "\n",
    "Pode-se ver nos gráficos que a frequência de citações de pessoas, principalmente às relacionadas ao PT, é muito maior em notícias falsas do que em notícias verdadeiras.\n",
    "\n",
    "Além disso, nas fakes news observa-se maior informalidade. Um exemplo é o uso da sigla STF ao invés de Supremo Tribunal Federal.\n",
    "\n",
    "Também observa-se no gráfico 1 o uso de pronomes possessivos, que são mais frequentes nas fake news do que nas notícias verdadeiras.\n",
    "\n",
    "É possível ver que há uma identificação de grupos nas fake news. Palavras como \"petista\", \"jornalista\", \"globo\", \"STF\" e \"políticos\" costumam aparecer nos discursos do atual presidente, Jair Bolsonaro.\n",
    "\n",
    "Por fim, as palavras mais à esquerda são, em sua maioria, temas vinculados à atual presidência, enquanto à direita há uma maior objetividade e diversidade de tópicos."
   ]
  }
 ],
 "metadata": {
  "kernelspec": {
   "display_name": "PySpark",
   "language": "python",
   "name": "spark"
  },
  "language_info": {
   "codemirror_mode": {
    "name": "ipython",
    "version": 3
   },
   "file_extension": ".py",
   "mimetype": "text/x-python",
   "name": "python",
   "nbconvert_exporter": "python",
   "pygments_lexer": "ipython3",
   "version": "3.7.7"
  },
  "toc": {
   "base_numbering": 1,
   "nav_menu": {},
   "number_sections": true,
   "sideBar": true,
   "skip_h1_title": false,
   "title_cell": "Table of Contents",
   "title_sidebar": "Contents",
   "toc_cell": false,
   "toc_position": {
    "height": "calc(100% - 180px)",
    "left": "10px",
    "top": "150px",
    "width": "265.69293212890625px"
   },
   "toc_section_display": true,
   "toc_window_display": true
  }
 },
 "nbformat": 4,
 "nbformat_minor": 2
}
